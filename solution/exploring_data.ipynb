{
  "nbformat": 4,
  "nbformat_minor": 0,
  "metadata": {
    "colab": {
      "name": "exploring_data.ipynb",
      "provenance": [],
      "collapsed_sections": [],
      "toc_visible": true
    },
    "kernelspec": {
      "name": "python3",
      "display_name": "Python 3"
    },
    "language_info": {
      "name": "python"
    }
  },
  "cells": [
    {
      "cell_type": "markdown",
      "source": [
        "### Importando biblioteca"
      ],
      "metadata": {
        "id": "afE21prdXej7"
      }
    },
    {
      "cell_type": "code",
      "execution_count": 1,
      "metadata": {
        "id": "8JhO5jy4m6HZ"
      },
      "outputs": [],
      "source": [
        "#!pip install odfpy"
      ]
    },
    {
      "cell_type": "code",
      "source": [
        "import pandas as pd"
      ],
      "metadata": {
        "id": "KH_4ujDBn1I3"
      },
      "execution_count": 2,
      "outputs": []
    },
    {
      "cell_type": "markdown",
      "source": [
        "### Lendo a base de dados"
      ],
      "metadata": {
        "id": "dobUHmZ5Xh8D"
      }
    },
    {
      "cell_type": "code",
      "source": [
        "fuel = pd.read_excel('/content/vendas-combustiveis-m3.ods', sheet_name='DPCache_m3')"
      ],
      "metadata": {
        "id": "q2D_hsazn198"
      },
      "execution_count": 3,
      "outputs": []
    },
    {
      "cell_type": "code",
      "source": [
        "#fuel = pd.read_excel('/content/vendas-combustiveis-m3.ods', sheet_name='DPCache_m3_2')"
      ],
      "metadata": {
        "id": "uyBLZ2aETUKP"
      },
      "execution_count": 4,
      "outputs": []
    },
    {
      "cell_type": "code",
      "source": [
        "fuel"
      ],
      "metadata": {
        "colab": {
          "base_uri": "https://localhost:8080/",
          "height": 748
        },
        "id": "sKrbZ3kU9rvI",
        "outputId": "83958de9-fd2e-48b8-d00a-0d2a9382b975"
      },
      "execution_count": 5,
      "outputs": [
        {
          "output_type": "execute_result",
          "data": {
            "text/plain": [
              "          COMBUSTÍVEL   ANO               REGIÃO              ESTADO  \\\n",
              "0     GASOLINA C (m3)  2000         REGIÃO NORTE            RONDÔNIA   \n",
              "1     GASOLINA C (m3)  2000         REGIÃO NORTE                ACRE   \n",
              "2     GASOLINA C (m3)  2000         REGIÃO NORTE            AMAZONAS   \n",
              "3     GASOLINA C (m3)  2000         REGIÃO NORTE             RORAIMA   \n",
              "4     GASOLINA C (m3)  2000         REGIÃO NORTE                PARÁ   \n",
              "...               ...   ...                  ...                 ...   \n",
              "4531         GLP (m3)  2020           REGIÃO SUL   RIO GRANDE DO SUL   \n",
              "4532         GLP (m3)  2020  REGIÃO CENTRO-OESTE  MATO GROSSO DO SUL   \n",
              "4533         GLP (m3)  2020  REGIÃO CENTRO-OESTE         MATO GROSSO   \n",
              "4534         GLP (m3)  2020  REGIÃO CENTRO-OESTE               GOIÁS   \n",
              "4535         GLP (m3)  2020  REGIÃO CENTRO-OESTE    DISTRITO FEDERAL   \n",
              "\n",
              "                Jan           Fev            Mar           Abr            Mai  \\\n",
              "0     136073.253000   9563.263000   11341.229000   9369.746000   10719.983000   \n",
              "1       3358.346000  40001.853000    3065.758000   3495.290000    2946.930000   \n",
              "2      20766.918000  21180.919000  242742.352000  17615.604000   20258.200000   \n",
              "3       3716.032000   3200.400000    3339.332000  43338.929000    3259.300000   \n",
              "4      29755.907000  28661.951000   28145.784000  29294.796000  359575.398000   \n",
              "...             ...           ...            ...           ...            ...   \n",
              "4531   73247.920290  81469.222826   75607.009058  72818.829710            NaN   \n",
              "4532   15190.643116  15877.811594   16876.476449  16036.112319   14687.788043   \n",
              "4533   19118.619565  18773.081522   19899.867754  20678.385870   18972.943841   \n",
              "4534   53302.086957  48894.621377   47184.788043  49687.793478   52665.449275   \n",
              "4535   13883.065217  16011.333333   15887.492754  13463.275362   15325.704710   \n",
              "\n",
              "               Jun           Jul            Ago            Set            Out  \\\n",
              "0     11165.968000  12312.451000   11220.970000   12482.281000   13591.122000   \n",
              "1      3023.920000   3206.930000    3612.580000    3264.460000    3835.740000   \n",
              "2     18741.344000  19604.023000   20221.674000   20792.616000   19912.898000   \n",
              "3      3636.216000   3631.569000    3348.416000    3394.016000    4078.616000   \n",
              "4     28830.479000  32297.047000   27310.979000   29396.384000   26511.009000   \n",
              "...            ...           ...            ...            ...            ...   \n",
              "4531           NaN           NaN  618788.938406   58679.211957   57649.414855   \n",
              "4532           NaN           NaN            NaN  137899.302536   13774.106884   \n",
              "4533  18051.436594           NaN            NaN            NaN  173256.967391   \n",
              "4534  50069.005435  48032.530797            NaN            NaN            NaN   \n",
              "4535  15689.914855  15358.490942   13937.451087            NaN            NaN   \n",
              "\n",
              "                Nov            Dez         TOTAL  \n",
              "0      11940.570000   11547.576000  10818.094000  \n",
              "1       3676.571000    3225.610000   3289.718000  \n",
              "2      21869.338000   21145.643000  20633.175000  \n",
              "3       3346.616000    4029.900000   4358.516000  \n",
              "4      36553.250000   31807.840000  31009.972000  \n",
              "...             ...            ...           ...  \n",
              "4531   68522.800725   64045.161232  66749.367754  \n",
              "4532   14137.695652   16281.139493  15037.528986  \n",
              "4533   18763.161232   18321.987319  20677.483696  \n",
              "4534  443268.739130   46850.585145  46581.878623  \n",
              "4535            NaN  133282.702899  13725.974638  \n",
              "\n",
              "[4536 rows x 17 columns]"
            ],
            "text/html": [
              "\n",
              "  <div id=\"df-dd4d78a4-16d2-457f-80f6-b7604c62efa0\">\n",
              "    <div class=\"colab-df-container\">\n",
              "      <div>\n",
              "<style scoped>\n",
              "    .dataframe tbody tr th:only-of-type {\n",
              "        vertical-align: middle;\n",
              "    }\n",
              "\n",
              "    .dataframe tbody tr th {\n",
              "        vertical-align: top;\n",
              "    }\n",
              "\n",
              "    .dataframe thead th {\n",
              "        text-align: right;\n",
              "    }\n",
              "</style>\n",
              "<table border=\"1\" class=\"dataframe\">\n",
              "  <thead>\n",
              "    <tr style=\"text-align: right;\">\n",
              "      <th></th>\n",
              "      <th>COMBUSTÍVEL</th>\n",
              "      <th>ANO</th>\n",
              "      <th>REGIÃO</th>\n",
              "      <th>ESTADO</th>\n",
              "      <th>Jan</th>\n",
              "      <th>Fev</th>\n",
              "      <th>Mar</th>\n",
              "      <th>Abr</th>\n",
              "      <th>Mai</th>\n",
              "      <th>Jun</th>\n",
              "      <th>Jul</th>\n",
              "      <th>Ago</th>\n",
              "      <th>Set</th>\n",
              "      <th>Out</th>\n",
              "      <th>Nov</th>\n",
              "      <th>Dez</th>\n",
              "      <th>TOTAL</th>\n",
              "    </tr>\n",
              "  </thead>\n",
              "  <tbody>\n",
              "    <tr>\n",
              "      <th>0</th>\n",
              "      <td>GASOLINA C (m3)</td>\n",
              "      <td>2000</td>\n",
              "      <td>REGIÃO NORTE</td>\n",
              "      <td>RONDÔNIA</td>\n",
              "      <td>136073.253000</td>\n",
              "      <td>9563.263000</td>\n",
              "      <td>11341.229000</td>\n",
              "      <td>9369.746000</td>\n",
              "      <td>10719.983000</td>\n",
              "      <td>11165.968000</td>\n",
              "      <td>12312.451000</td>\n",
              "      <td>11220.970000</td>\n",
              "      <td>12482.281000</td>\n",
              "      <td>13591.122000</td>\n",
              "      <td>11940.570000</td>\n",
              "      <td>11547.576000</td>\n",
              "      <td>10818.094000</td>\n",
              "    </tr>\n",
              "    <tr>\n",
              "      <th>1</th>\n",
              "      <td>GASOLINA C (m3)</td>\n",
              "      <td>2000</td>\n",
              "      <td>REGIÃO NORTE</td>\n",
              "      <td>ACRE</td>\n",
              "      <td>3358.346000</td>\n",
              "      <td>40001.853000</td>\n",
              "      <td>3065.758000</td>\n",
              "      <td>3495.290000</td>\n",
              "      <td>2946.930000</td>\n",
              "      <td>3023.920000</td>\n",
              "      <td>3206.930000</td>\n",
              "      <td>3612.580000</td>\n",
              "      <td>3264.460000</td>\n",
              "      <td>3835.740000</td>\n",
              "      <td>3676.571000</td>\n",
              "      <td>3225.610000</td>\n",
              "      <td>3289.718000</td>\n",
              "    </tr>\n",
              "    <tr>\n",
              "      <th>2</th>\n",
              "      <td>GASOLINA C (m3)</td>\n",
              "      <td>2000</td>\n",
              "      <td>REGIÃO NORTE</td>\n",
              "      <td>AMAZONAS</td>\n",
              "      <td>20766.918000</td>\n",
              "      <td>21180.919000</td>\n",
              "      <td>242742.352000</td>\n",
              "      <td>17615.604000</td>\n",
              "      <td>20258.200000</td>\n",
              "      <td>18741.344000</td>\n",
              "      <td>19604.023000</td>\n",
              "      <td>20221.674000</td>\n",
              "      <td>20792.616000</td>\n",
              "      <td>19912.898000</td>\n",
              "      <td>21869.338000</td>\n",
              "      <td>21145.643000</td>\n",
              "      <td>20633.175000</td>\n",
              "    </tr>\n",
              "    <tr>\n",
              "      <th>3</th>\n",
              "      <td>GASOLINA C (m3)</td>\n",
              "      <td>2000</td>\n",
              "      <td>REGIÃO NORTE</td>\n",
              "      <td>RORAIMA</td>\n",
              "      <td>3716.032000</td>\n",
              "      <td>3200.400000</td>\n",
              "      <td>3339.332000</td>\n",
              "      <td>43338.929000</td>\n",
              "      <td>3259.300000</td>\n",
              "      <td>3636.216000</td>\n",
              "      <td>3631.569000</td>\n",
              "      <td>3348.416000</td>\n",
              "      <td>3394.016000</td>\n",
              "      <td>4078.616000</td>\n",
              "      <td>3346.616000</td>\n",
              "      <td>4029.900000</td>\n",
              "      <td>4358.516000</td>\n",
              "    </tr>\n",
              "    <tr>\n",
              "      <th>4</th>\n",
              "      <td>GASOLINA C (m3)</td>\n",
              "      <td>2000</td>\n",
              "      <td>REGIÃO NORTE</td>\n",
              "      <td>PARÁ</td>\n",
              "      <td>29755.907000</td>\n",
              "      <td>28661.951000</td>\n",
              "      <td>28145.784000</td>\n",
              "      <td>29294.796000</td>\n",
              "      <td>359575.398000</td>\n",
              "      <td>28830.479000</td>\n",
              "      <td>32297.047000</td>\n",
              "      <td>27310.979000</td>\n",
              "      <td>29396.384000</td>\n",
              "      <td>26511.009000</td>\n",
              "      <td>36553.250000</td>\n",
              "      <td>31807.840000</td>\n",
              "      <td>31009.972000</td>\n",
              "    </tr>\n",
              "    <tr>\n",
              "      <th>...</th>\n",
              "      <td>...</td>\n",
              "      <td>...</td>\n",
              "      <td>...</td>\n",
              "      <td>...</td>\n",
              "      <td>...</td>\n",
              "      <td>...</td>\n",
              "      <td>...</td>\n",
              "      <td>...</td>\n",
              "      <td>...</td>\n",
              "      <td>...</td>\n",
              "      <td>...</td>\n",
              "      <td>...</td>\n",
              "      <td>...</td>\n",
              "      <td>...</td>\n",
              "      <td>...</td>\n",
              "      <td>...</td>\n",
              "      <td>...</td>\n",
              "    </tr>\n",
              "    <tr>\n",
              "      <th>4531</th>\n",
              "      <td>GLP (m3)</td>\n",
              "      <td>2020</td>\n",
              "      <td>REGIÃO SUL</td>\n",
              "      <td>RIO GRANDE DO SUL</td>\n",
              "      <td>73247.920290</td>\n",
              "      <td>81469.222826</td>\n",
              "      <td>75607.009058</td>\n",
              "      <td>72818.829710</td>\n",
              "      <td>NaN</td>\n",
              "      <td>NaN</td>\n",
              "      <td>NaN</td>\n",
              "      <td>618788.938406</td>\n",
              "      <td>58679.211957</td>\n",
              "      <td>57649.414855</td>\n",
              "      <td>68522.800725</td>\n",
              "      <td>64045.161232</td>\n",
              "      <td>66749.367754</td>\n",
              "    </tr>\n",
              "    <tr>\n",
              "      <th>4532</th>\n",
              "      <td>GLP (m3)</td>\n",
              "      <td>2020</td>\n",
              "      <td>REGIÃO CENTRO-OESTE</td>\n",
              "      <td>MATO GROSSO DO SUL</td>\n",
              "      <td>15190.643116</td>\n",
              "      <td>15877.811594</td>\n",
              "      <td>16876.476449</td>\n",
              "      <td>16036.112319</td>\n",
              "      <td>14687.788043</td>\n",
              "      <td>NaN</td>\n",
              "      <td>NaN</td>\n",
              "      <td>NaN</td>\n",
              "      <td>137899.302536</td>\n",
              "      <td>13774.106884</td>\n",
              "      <td>14137.695652</td>\n",
              "      <td>16281.139493</td>\n",
              "      <td>15037.528986</td>\n",
              "    </tr>\n",
              "    <tr>\n",
              "      <th>4533</th>\n",
              "      <td>GLP (m3)</td>\n",
              "      <td>2020</td>\n",
              "      <td>REGIÃO CENTRO-OESTE</td>\n",
              "      <td>MATO GROSSO</td>\n",
              "      <td>19118.619565</td>\n",
              "      <td>18773.081522</td>\n",
              "      <td>19899.867754</td>\n",
              "      <td>20678.385870</td>\n",
              "      <td>18972.943841</td>\n",
              "      <td>18051.436594</td>\n",
              "      <td>NaN</td>\n",
              "      <td>NaN</td>\n",
              "      <td>NaN</td>\n",
              "      <td>173256.967391</td>\n",
              "      <td>18763.161232</td>\n",
              "      <td>18321.987319</td>\n",
              "      <td>20677.483696</td>\n",
              "    </tr>\n",
              "    <tr>\n",
              "      <th>4534</th>\n",
              "      <td>GLP (m3)</td>\n",
              "      <td>2020</td>\n",
              "      <td>REGIÃO CENTRO-OESTE</td>\n",
              "      <td>GOIÁS</td>\n",
              "      <td>53302.086957</td>\n",
              "      <td>48894.621377</td>\n",
              "      <td>47184.788043</td>\n",
              "      <td>49687.793478</td>\n",
              "      <td>52665.449275</td>\n",
              "      <td>50069.005435</td>\n",
              "      <td>48032.530797</td>\n",
              "      <td>NaN</td>\n",
              "      <td>NaN</td>\n",
              "      <td>NaN</td>\n",
              "      <td>443268.739130</td>\n",
              "      <td>46850.585145</td>\n",
              "      <td>46581.878623</td>\n",
              "    </tr>\n",
              "    <tr>\n",
              "      <th>4535</th>\n",
              "      <td>GLP (m3)</td>\n",
              "      <td>2020</td>\n",
              "      <td>REGIÃO CENTRO-OESTE</td>\n",
              "      <td>DISTRITO FEDERAL</td>\n",
              "      <td>13883.065217</td>\n",
              "      <td>16011.333333</td>\n",
              "      <td>15887.492754</td>\n",
              "      <td>13463.275362</td>\n",
              "      <td>15325.704710</td>\n",
              "      <td>15689.914855</td>\n",
              "      <td>15358.490942</td>\n",
              "      <td>13937.451087</td>\n",
              "      <td>NaN</td>\n",
              "      <td>NaN</td>\n",
              "      <td>NaN</td>\n",
              "      <td>133282.702899</td>\n",
              "      <td>13725.974638</td>\n",
              "    </tr>\n",
              "  </tbody>\n",
              "</table>\n",
              "<p>4536 rows × 17 columns</p>\n",
              "</div>\n",
              "      <button class=\"colab-df-convert\" onclick=\"convertToInteractive('df-dd4d78a4-16d2-457f-80f6-b7604c62efa0')\"\n",
              "              title=\"Convert this dataframe to an interactive table.\"\n",
              "              style=\"display:none;\">\n",
              "        \n",
              "  <svg xmlns=\"http://www.w3.org/2000/svg\" height=\"24px\"viewBox=\"0 0 24 24\"\n",
              "       width=\"24px\">\n",
              "    <path d=\"M0 0h24v24H0V0z\" fill=\"none\"/>\n",
              "    <path d=\"M18.56 5.44l.94 2.06.94-2.06 2.06-.94-2.06-.94-.94-2.06-.94 2.06-2.06.94zm-11 1L8.5 8.5l.94-2.06 2.06-.94-2.06-.94L8.5 2.5l-.94 2.06-2.06.94zm10 10l.94 2.06.94-2.06 2.06-.94-2.06-.94-.94-2.06-.94 2.06-2.06.94z\"/><path d=\"M17.41 7.96l-1.37-1.37c-.4-.4-.92-.59-1.43-.59-.52 0-1.04.2-1.43.59L10.3 9.45l-7.72 7.72c-.78.78-.78 2.05 0 2.83L4 21.41c.39.39.9.59 1.41.59.51 0 1.02-.2 1.41-.59l7.78-7.78 2.81-2.81c.8-.78.8-2.07 0-2.86zM5.41 20L4 18.59l7.72-7.72 1.47 1.35L5.41 20z\"/>\n",
              "  </svg>\n",
              "      </button>\n",
              "      \n",
              "  <style>\n",
              "    .colab-df-container {\n",
              "      display:flex;\n",
              "      flex-wrap:wrap;\n",
              "      gap: 12px;\n",
              "    }\n",
              "\n",
              "    .colab-df-convert {\n",
              "      background-color: #E8F0FE;\n",
              "      border: none;\n",
              "      border-radius: 50%;\n",
              "      cursor: pointer;\n",
              "      display: none;\n",
              "      fill: #1967D2;\n",
              "      height: 32px;\n",
              "      padding: 0 0 0 0;\n",
              "      width: 32px;\n",
              "    }\n",
              "\n",
              "    .colab-df-convert:hover {\n",
              "      background-color: #E2EBFA;\n",
              "      box-shadow: 0px 1px 2px rgba(60, 64, 67, 0.3), 0px 1px 3px 1px rgba(60, 64, 67, 0.15);\n",
              "      fill: #174EA6;\n",
              "    }\n",
              "\n",
              "    [theme=dark] .colab-df-convert {\n",
              "      background-color: #3B4455;\n",
              "      fill: #D2E3FC;\n",
              "    }\n",
              "\n",
              "    [theme=dark] .colab-df-convert:hover {\n",
              "      background-color: #434B5C;\n",
              "      box-shadow: 0px 1px 3px 1px rgba(0, 0, 0, 0.15);\n",
              "      filter: drop-shadow(0px 1px 2px rgba(0, 0, 0, 0.3));\n",
              "      fill: #FFFFFF;\n",
              "    }\n",
              "  </style>\n",
              "\n",
              "      <script>\n",
              "        const buttonEl =\n",
              "          document.querySelector('#df-dd4d78a4-16d2-457f-80f6-b7604c62efa0 button.colab-df-convert');\n",
              "        buttonEl.style.display =\n",
              "          google.colab.kernel.accessAllowed ? 'block' : 'none';\n",
              "\n",
              "        async function convertToInteractive(key) {\n",
              "          const element = document.querySelector('#df-dd4d78a4-16d2-457f-80f6-b7604c62efa0');\n",
              "          const dataTable =\n",
              "            await google.colab.kernel.invokeFunction('convertToInteractive',\n",
              "                                                     [key], {});\n",
              "          if (!dataTable) return;\n",
              "\n",
              "          const docLinkHtml = 'Like what you see? Visit the ' +\n",
              "            '<a target=\"_blank\" href=https://colab.research.google.com/notebooks/data_table.ipynb>data table notebook</a>'\n",
              "            + ' to learn more about interactive tables.';\n",
              "          element.innerHTML = '';\n",
              "          dataTable['output_type'] = 'display_data';\n",
              "          await google.colab.output.renderOutput(dataTable, element);\n",
              "          const docLink = document.createElement('div');\n",
              "          docLink.innerHTML = docLinkHtml;\n",
              "          element.appendChild(docLink);\n",
              "        }\n",
              "      </script>\n",
              "    </div>\n",
              "  </div>\n",
              "  "
            ]
          },
          "metadata": {},
          "execution_count": 5
        }
      ]
    },
    {
      "cell_type": "markdown",
      "source": [
        "Analisando os tipos dos dados existentes no arquivo"
      ],
      "metadata": {
        "id": "G42gYM_LcTbb"
      }
    },
    {
      "cell_type": "code",
      "source": [
        "fuel.dtypes"
      ],
      "metadata": {
        "colab": {
          "base_uri": "https://localhost:8080/"
        },
        "id": "SoiezLsgAz0n",
        "outputId": "1504e288-a3e2-4c38-f859-7a768bddda9f"
      },
      "execution_count": 6,
      "outputs": [
        {
          "output_type": "execute_result",
          "data": {
            "text/plain": [
              "COMBUSTÍVEL     object\n",
              "ANO              int64\n",
              "REGIÃO          object\n",
              "ESTADO          object\n",
              "Jan            float64\n",
              "Fev            float64\n",
              "Mar            float64\n",
              "Abr            float64\n",
              "Mai            float64\n",
              "Jun            float64\n",
              "Jul            float64\n",
              "Ago            float64\n",
              "Set            float64\n",
              "Out            float64\n",
              "Nov            float64\n",
              "Dez            float64\n",
              "TOTAL          float64\n",
              "dtype: object"
            ]
          },
          "metadata": {},
          "execution_count": 6
        }
      ]
    },
    {
      "cell_type": "markdown",
      "source": [
        "### Renomeando as colunas"
      ],
      "metadata": {
        "id": "EtU7RJmTcXks"
      }
    },
    {
      "cell_type": "code",
      "source": [
        "fuel.rename(columns = {'COMBUSTÍVEL':'COMBUSTIVEL', 'REGIÃO':'REGIAO', 'Jan':'1', 'Fev':'2', \n",
        "                     'Mar':'3', 'Abr':'4', 'Mai':'5', 'Jun':'6',  'Jul':'7', 'Ago':'8', \n",
        "                     'Set':'9', 'Out':'10', 'Nov':'11', 'Dez':'12'}, inplace = True)"
      ],
      "metadata": {
        "id": "kjLYNf3j9-Wt"
      },
      "execution_count": 7,
      "outputs": []
    },
    {
      "cell_type": "markdown",
      "source": [
        "### Alterando o formato do dataframe"
      ],
      "metadata": {
        "id": "OejsfblkVY92"
      }
    },
    {
      "cell_type": "code",
      "source": [
        "fuel = pd.melt(fuel, id_vars=['COMBUSTIVEL', 'ANO', 'REGIAO', 'ESTADO'], \n",
        "                 var_name = 'MES', value_name = 'melt_total')"
      ],
      "metadata": {
        "id": "-R8I5kzH03S7"
      },
      "execution_count": 8,
      "outputs": []
    },
    {
      "cell_type": "code",
      "source": [
        "fuel"
      ],
      "metadata": {
        "colab": {
          "base_uri": "https://localhost:8080/",
          "height": 424
        },
        "id": "k-RmiWsX3MG1",
        "outputId": "2876ac67-55f2-4ebd-f921-56c913614cc1"
      },
      "execution_count": 9,
      "outputs": [
        {
          "output_type": "execute_result",
          "data": {
            "text/plain": [
              "           COMBUSTIVEL   ANO               REGIAO              ESTADO    MES  \\\n",
              "0      GASOLINA C (m3)  2000         REGIÃO NORTE            RONDÔNIA      1   \n",
              "1      GASOLINA C (m3)  2000         REGIÃO NORTE                ACRE      1   \n",
              "2      GASOLINA C (m3)  2000         REGIÃO NORTE            AMAZONAS      1   \n",
              "3      GASOLINA C (m3)  2000         REGIÃO NORTE             RORAIMA      1   \n",
              "4      GASOLINA C (m3)  2000         REGIÃO NORTE                PARÁ      1   \n",
              "...                ...   ...                  ...                 ...    ...   \n",
              "58963         GLP (m3)  2020           REGIÃO SUL   RIO GRANDE DO SUL  TOTAL   \n",
              "58964         GLP (m3)  2020  REGIÃO CENTRO-OESTE  MATO GROSSO DO SUL  TOTAL   \n",
              "58965         GLP (m3)  2020  REGIÃO CENTRO-OESTE         MATO GROSSO  TOTAL   \n",
              "58966         GLP (m3)  2020  REGIÃO CENTRO-OESTE               GOIÁS  TOTAL   \n",
              "58967         GLP (m3)  2020  REGIÃO CENTRO-OESTE    DISTRITO FEDERAL  TOTAL   \n",
              "\n",
              "          melt_total  \n",
              "0      136073.253000  \n",
              "1        3358.346000  \n",
              "2       20766.918000  \n",
              "3        3716.032000  \n",
              "4       29755.907000  \n",
              "...              ...  \n",
              "58963   66749.367754  \n",
              "58964   15037.528986  \n",
              "58965   20677.483696  \n",
              "58966   46581.878623  \n",
              "58967   13725.974638  \n",
              "\n",
              "[58968 rows x 6 columns]"
            ],
            "text/html": [
              "\n",
              "  <div id=\"df-48f02429-441d-41cf-9e50-0178d48f0691\">\n",
              "    <div class=\"colab-df-container\">\n",
              "      <div>\n",
              "<style scoped>\n",
              "    .dataframe tbody tr th:only-of-type {\n",
              "        vertical-align: middle;\n",
              "    }\n",
              "\n",
              "    .dataframe tbody tr th {\n",
              "        vertical-align: top;\n",
              "    }\n",
              "\n",
              "    .dataframe thead th {\n",
              "        text-align: right;\n",
              "    }\n",
              "</style>\n",
              "<table border=\"1\" class=\"dataframe\">\n",
              "  <thead>\n",
              "    <tr style=\"text-align: right;\">\n",
              "      <th></th>\n",
              "      <th>COMBUSTIVEL</th>\n",
              "      <th>ANO</th>\n",
              "      <th>REGIAO</th>\n",
              "      <th>ESTADO</th>\n",
              "      <th>MES</th>\n",
              "      <th>melt_total</th>\n",
              "    </tr>\n",
              "  </thead>\n",
              "  <tbody>\n",
              "    <tr>\n",
              "      <th>0</th>\n",
              "      <td>GASOLINA C (m3)</td>\n",
              "      <td>2000</td>\n",
              "      <td>REGIÃO NORTE</td>\n",
              "      <td>RONDÔNIA</td>\n",
              "      <td>1</td>\n",
              "      <td>136073.253000</td>\n",
              "    </tr>\n",
              "    <tr>\n",
              "      <th>1</th>\n",
              "      <td>GASOLINA C (m3)</td>\n",
              "      <td>2000</td>\n",
              "      <td>REGIÃO NORTE</td>\n",
              "      <td>ACRE</td>\n",
              "      <td>1</td>\n",
              "      <td>3358.346000</td>\n",
              "    </tr>\n",
              "    <tr>\n",
              "      <th>2</th>\n",
              "      <td>GASOLINA C (m3)</td>\n",
              "      <td>2000</td>\n",
              "      <td>REGIÃO NORTE</td>\n",
              "      <td>AMAZONAS</td>\n",
              "      <td>1</td>\n",
              "      <td>20766.918000</td>\n",
              "    </tr>\n",
              "    <tr>\n",
              "      <th>3</th>\n",
              "      <td>GASOLINA C (m3)</td>\n",
              "      <td>2000</td>\n",
              "      <td>REGIÃO NORTE</td>\n",
              "      <td>RORAIMA</td>\n",
              "      <td>1</td>\n",
              "      <td>3716.032000</td>\n",
              "    </tr>\n",
              "    <tr>\n",
              "      <th>4</th>\n",
              "      <td>GASOLINA C (m3)</td>\n",
              "      <td>2000</td>\n",
              "      <td>REGIÃO NORTE</td>\n",
              "      <td>PARÁ</td>\n",
              "      <td>1</td>\n",
              "      <td>29755.907000</td>\n",
              "    </tr>\n",
              "    <tr>\n",
              "      <th>...</th>\n",
              "      <td>...</td>\n",
              "      <td>...</td>\n",
              "      <td>...</td>\n",
              "      <td>...</td>\n",
              "      <td>...</td>\n",
              "      <td>...</td>\n",
              "    </tr>\n",
              "    <tr>\n",
              "      <th>58963</th>\n",
              "      <td>GLP (m3)</td>\n",
              "      <td>2020</td>\n",
              "      <td>REGIÃO SUL</td>\n",
              "      <td>RIO GRANDE DO SUL</td>\n",
              "      <td>TOTAL</td>\n",
              "      <td>66749.367754</td>\n",
              "    </tr>\n",
              "    <tr>\n",
              "      <th>58964</th>\n",
              "      <td>GLP (m3)</td>\n",
              "      <td>2020</td>\n",
              "      <td>REGIÃO CENTRO-OESTE</td>\n",
              "      <td>MATO GROSSO DO SUL</td>\n",
              "      <td>TOTAL</td>\n",
              "      <td>15037.528986</td>\n",
              "    </tr>\n",
              "    <tr>\n",
              "      <th>58965</th>\n",
              "      <td>GLP (m3)</td>\n",
              "      <td>2020</td>\n",
              "      <td>REGIÃO CENTRO-OESTE</td>\n",
              "      <td>MATO GROSSO</td>\n",
              "      <td>TOTAL</td>\n",
              "      <td>20677.483696</td>\n",
              "    </tr>\n",
              "    <tr>\n",
              "      <th>58966</th>\n",
              "      <td>GLP (m3)</td>\n",
              "      <td>2020</td>\n",
              "      <td>REGIÃO CENTRO-OESTE</td>\n",
              "      <td>GOIÁS</td>\n",
              "      <td>TOTAL</td>\n",
              "      <td>46581.878623</td>\n",
              "    </tr>\n",
              "    <tr>\n",
              "      <th>58967</th>\n",
              "      <td>GLP (m3)</td>\n",
              "      <td>2020</td>\n",
              "      <td>REGIÃO CENTRO-OESTE</td>\n",
              "      <td>DISTRITO FEDERAL</td>\n",
              "      <td>TOTAL</td>\n",
              "      <td>13725.974638</td>\n",
              "    </tr>\n",
              "  </tbody>\n",
              "</table>\n",
              "<p>58968 rows × 6 columns</p>\n",
              "</div>\n",
              "      <button class=\"colab-df-convert\" onclick=\"convertToInteractive('df-48f02429-441d-41cf-9e50-0178d48f0691')\"\n",
              "              title=\"Convert this dataframe to an interactive table.\"\n",
              "              style=\"display:none;\">\n",
              "        \n",
              "  <svg xmlns=\"http://www.w3.org/2000/svg\" height=\"24px\"viewBox=\"0 0 24 24\"\n",
              "       width=\"24px\">\n",
              "    <path d=\"M0 0h24v24H0V0z\" fill=\"none\"/>\n",
              "    <path d=\"M18.56 5.44l.94 2.06.94-2.06 2.06-.94-2.06-.94-.94-2.06-.94 2.06-2.06.94zm-11 1L8.5 8.5l.94-2.06 2.06-.94-2.06-.94L8.5 2.5l-.94 2.06-2.06.94zm10 10l.94 2.06.94-2.06 2.06-.94-2.06-.94-.94-2.06-.94 2.06-2.06.94z\"/><path d=\"M17.41 7.96l-1.37-1.37c-.4-.4-.92-.59-1.43-.59-.52 0-1.04.2-1.43.59L10.3 9.45l-7.72 7.72c-.78.78-.78 2.05 0 2.83L4 21.41c.39.39.9.59 1.41.59.51 0 1.02-.2 1.41-.59l7.78-7.78 2.81-2.81c.8-.78.8-2.07 0-2.86zM5.41 20L4 18.59l7.72-7.72 1.47 1.35L5.41 20z\"/>\n",
              "  </svg>\n",
              "      </button>\n",
              "      \n",
              "  <style>\n",
              "    .colab-df-container {\n",
              "      display:flex;\n",
              "      flex-wrap:wrap;\n",
              "      gap: 12px;\n",
              "    }\n",
              "\n",
              "    .colab-df-convert {\n",
              "      background-color: #E8F0FE;\n",
              "      border: none;\n",
              "      border-radius: 50%;\n",
              "      cursor: pointer;\n",
              "      display: none;\n",
              "      fill: #1967D2;\n",
              "      height: 32px;\n",
              "      padding: 0 0 0 0;\n",
              "      width: 32px;\n",
              "    }\n",
              "\n",
              "    .colab-df-convert:hover {\n",
              "      background-color: #E2EBFA;\n",
              "      box-shadow: 0px 1px 2px rgba(60, 64, 67, 0.3), 0px 1px 3px 1px rgba(60, 64, 67, 0.15);\n",
              "      fill: #174EA6;\n",
              "    }\n",
              "\n",
              "    [theme=dark] .colab-df-convert {\n",
              "      background-color: #3B4455;\n",
              "      fill: #D2E3FC;\n",
              "    }\n",
              "\n",
              "    [theme=dark] .colab-df-convert:hover {\n",
              "      background-color: #434B5C;\n",
              "      box-shadow: 0px 1px 3px 1px rgba(0, 0, 0, 0.15);\n",
              "      filter: drop-shadow(0px 1px 2px rgba(0, 0, 0, 0.3));\n",
              "      fill: #FFFFFF;\n",
              "    }\n",
              "  </style>\n",
              "\n",
              "      <script>\n",
              "        const buttonEl =\n",
              "          document.querySelector('#df-48f02429-441d-41cf-9e50-0178d48f0691 button.colab-df-convert');\n",
              "        buttonEl.style.display =\n",
              "          google.colab.kernel.accessAllowed ? 'block' : 'none';\n",
              "\n",
              "        async function convertToInteractive(key) {\n",
              "          const element = document.querySelector('#df-48f02429-441d-41cf-9e50-0178d48f0691');\n",
              "          const dataTable =\n",
              "            await google.colab.kernel.invokeFunction('convertToInteractive',\n",
              "                                                     [key], {});\n",
              "          if (!dataTable) return;\n",
              "\n",
              "          const docLinkHtml = 'Like what you see? Visit the ' +\n",
              "            '<a target=\"_blank\" href=https://colab.research.google.com/notebooks/data_table.ipynb>data table notebook</a>'\n",
              "            + ' to learn more about interactive tables.';\n",
              "          element.innerHTML = '';\n",
              "          dataTable['output_type'] = 'display_data';\n",
              "          await google.colab.output.renderOutput(dataTable, element);\n",
              "          const docLink = document.createElement('div');\n",
              "          docLink.innerHTML = docLinkHtml;\n",
              "          element.appendChild(docLink);\n",
              "        }\n",
              "      </script>\n",
              "    </div>\n",
              "  </div>\n",
              "  "
            ]
          },
          "metadata": {},
          "execution_count": 9
        }
      ]
    },
    {
      "cell_type": "markdown",
      "source": [
        "### Preprocessando os dados"
      ],
      "metadata": {
        "id": "IbuVmlvxVzeL"
      }
    },
    {
      "cell_type": "markdown",
      "source": [
        "Removendo 'TOTAL' da coluna 'MES' "
      ],
      "metadata": {
        "id": "bzFiUzJdV-88"
      }
    },
    {
      "cell_type": "code",
      "source": [
        "fuel.drop(fuel.index[fuel['MES'] == 'TOTAL'], inplace = True)"
      ],
      "metadata": {
        "id": "VfpQyKrkLma1"
      },
      "execution_count": 10,
      "outputs": []
    },
    {
      "cell_type": "markdown",
      "source": [
        "Concatenando ano e mes para poder criar a data"
      ],
      "metadata": {
        "id": "r3LIhsIbWCih"
      }
    },
    {
      "cell_type": "code",
      "source": [
        "fuel['DATA'] = fuel['ANO'].astype(str) + '-' + fuel['MES']"
      ],
      "metadata": {
        "id": "uDgF43_-k4Ob"
      },
      "execution_count": 11,
      "outputs": []
    },
    {
      "cell_type": "code",
      "source": [
        "fuel.dtypes"
      ],
      "metadata": {
        "colab": {
          "base_uri": "https://localhost:8080/"
        },
        "id": "sRV_IkkTzXHY",
        "outputId": "56686d78-950a-48b0-a209-a4ec191000c0"
      },
      "execution_count": 12,
      "outputs": [
        {
          "output_type": "execute_result",
          "data": {
            "text/plain": [
              "COMBUSTIVEL     object\n",
              "ANO              int64\n",
              "REGIAO          object\n",
              "ESTADO          object\n",
              "MES             object\n",
              "melt_total     float64\n",
              "DATA            object\n",
              "dtype: object"
            ]
          },
          "metadata": {},
          "execution_count": 12
        }
      ]
    },
    {
      "cell_type": "code",
      "source": [
        "fuel['DATA'] = pd.to_datetime(fuel['DATA'])"
      ],
      "metadata": {
        "id": "zONw0rHwl8gP"
      },
      "execution_count": 13,
      "outputs": []
    },
    {
      "cell_type": "code",
      "source": [
        "fuel.dtypes"
      ],
      "metadata": {
        "colab": {
          "base_uri": "https://localhost:8080/"
        },
        "id": "o1AZep9NzZzq",
        "outputId": "123d3498-82dd-40ac-8c38-ff994747fcc9"
      },
      "execution_count": 14,
      "outputs": [
        {
          "output_type": "execute_result",
          "data": {
            "text/plain": [
              "COMBUSTIVEL            object\n",
              "ANO                     int64\n",
              "REGIAO                 object\n",
              "ESTADO                 object\n",
              "MES                    object\n",
              "melt_total            float64\n",
              "DATA           datetime64[ns]\n",
              "dtype: object"
            ]
          },
          "metadata": {},
          "execution_count": 14
        }
      ]
    },
    {
      "cell_type": "markdown",
      "source": [
        "Removendo colunas que não serão mais utilizadas"
      ],
      "metadata": {
        "id": "qxZmga9aWOlS"
      }
    },
    {
      "cell_type": "code",
      "source": [
        "fuel = fuel.drop(labels=['REGIAO', 'ANO','MES'], axis=1)"
      ],
      "metadata": {
        "id": "z2dGG0uXmDBI"
      },
      "execution_count": 15,
      "outputs": []
    },
    {
      "cell_type": "markdown",
      "source": [
        "Formatando as colunas 'COMBUSTIVEL' e 'ESTADO'"
      ],
      "metadata": {
        "id": "WvMqbS37WaRr"
      }
    },
    {
      "cell_type": "code",
      "source": [
        "fuel['COMBUSTIVEL'] = fuel['COMBUSTIVEL'].str.replace('(m3)',\"\",regex = False).str.strip().str.normalize('NFKD').str.encode('ascii', errors='ignore').str.decode('utf-8')"
      ],
      "metadata": {
        "id": "zCnXvV5NmC4j"
      },
      "execution_count": 16,
      "outputs": []
    },
    {
      "cell_type": "code",
      "source": [
        "fuel['ESTADO'] = fuel['ESTADO'].str.normalize('NFKD').str.encode('ascii', errors='ignore').str.decode('utf-8')"
      ],
      "metadata": {
        "id": "oERFJqEFn7q3"
      },
      "execution_count": 17,
      "outputs": []
    },
    {
      "cell_type": "markdown",
      "source": [
        "Renomeando as colunas para o padrão"
      ],
      "metadata": {
        "id": "PcFUvYakWR1R"
      }
    },
    {
      "cell_type": "code",
      "source": [
        "fuel.rename(columns = {'COMBUSTIVEL':'product', 'ESTADO':'uf', 'melt_total':'volume', 'DATA': 'year_month'}, inplace = True)"
      ],
      "metadata": {
        "id": "pXXHovMMu24-"
      },
      "execution_count": 18,
      "outputs": []
    },
    {
      "cell_type": "markdown",
      "source": [
        "Criando a coluna 'unit'"
      ],
      "metadata": {
        "id": "svk5iLxoWXfX"
      }
    },
    {
      "cell_type": "code",
      "source": [
        "fuel['unit'] = 'm3'"
      ],
      "metadata": {
        "id": "na4t0oI-qy0x"
      },
      "execution_count": 19,
      "outputs": []
    },
    {
      "cell_type": "markdown",
      "source": [
        "### Checando os valores nulos das colunas"
      ],
      "metadata": {
        "id": "31s-eRc9VMFo"
      }
    },
    {
      "cell_type": "code",
      "source": [
        "fuel.isnull().values.any()"
      ],
      "metadata": {
        "colab": {
          "base_uri": "https://localhost:8080/"
        },
        "id": "iGUULk3CAU8k",
        "outputId": "371e8ef8-ca0b-477c-9985-bda09f7714ae"
      },
      "execution_count": 20,
      "outputs": [
        {
          "output_type": "execute_result",
          "data": {
            "text/plain": [
              "True"
            ]
          },
          "metadata": {},
          "execution_count": 20
        }
      ]
    },
    {
      "cell_type": "code",
      "source": [
        "fuel.isnull().sum()"
      ],
      "metadata": {
        "colab": {
          "base_uri": "https://localhost:8080/"
        },
        "id": "PS4AVJf4AdAX",
        "outputId": "3ab05137-2b4d-4033-c71e-791168c1d6fd"
      },
      "execution_count": 21,
      "outputs": [
        {
          "output_type": "execute_result",
          "data": {
            "text/plain": [
              "product         0\n",
              "uf              0\n",
              "volume        598\n",
              "year_month      0\n",
              "unit            0\n",
              "dtype: int64"
            ]
          },
          "metadata": {},
          "execution_count": 21
        }
      ]
    },
    {
      "cell_type": "markdown",
      "source": [
        "Fuel: volume 598\n",
        "\n",
        "Diesel: volume 374"
      ],
      "metadata": {
        "id": "J4fhOm7HUkIk"
      }
    },
    {
      "cell_type": "code",
      "source": [
        "fuel['volume'] = fuel['volume'].fillna(0)"
      ],
      "metadata": {
        "id": "Of9Koz-sAh0f"
      },
      "execution_count": 22,
      "outputs": []
    },
    {
      "cell_type": "code",
      "source": [
        "fuel.isnull().sum()"
      ],
      "metadata": {
        "colab": {
          "base_uri": "https://localhost:8080/"
        },
        "id": "1wfR7InNBDq5",
        "outputId": "e41bed8c-64a2-41e6-d459-7250b01a22bd"
      },
      "execution_count": 23,
      "outputs": [
        {
          "output_type": "execute_result",
          "data": {
            "text/plain": [
              "product       0\n",
              "uf            0\n",
              "volume        0\n",
              "year_month    0\n",
              "unit          0\n",
              "dtype: int64"
            ]
          },
          "metadata": {},
          "execution_count": 23
        }
      ]
    },
    {
      "cell_type": "markdown",
      "source": [
        "### Reordenando colunas"
      ],
      "metadata": {
        "id": "uAWU1pygBKm2"
      }
    },
    {
      "cell_type": "code",
      "source": [
        "fuel = fuel[['year_month','uf','product','unit','volume']]"
      ],
      "metadata": {
        "id": "8mDSQI6jgqMr"
      },
      "execution_count": 24,
      "outputs": []
    },
    {
      "cell_type": "code",
      "source": [
        "fuel"
      ],
      "metadata": {
        "colab": {
          "base_uri": "https://localhost:8080/",
          "height": 424
        },
        "id": "CbP4J1A11RH9",
        "outputId": "5441737d-3351-43d0-f43b-055de29e5388"
      },
      "execution_count": 25,
      "outputs": [
        {
          "output_type": "execute_result",
          "data": {
            "text/plain": [
              "      year_month                  uf     product unit         volume\n",
              "0     2000-01-01            RONDONIA  GASOLINA C   m3  136073.253000\n",
              "1     2000-01-01                ACRE  GASOLINA C   m3    3358.346000\n",
              "2     2000-01-01            AMAZONAS  GASOLINA C   m3   20766.918000\n",
              "3     2000-01-01             RORAIMA  GASOLINA C   m3    3716.032000\n",
              "4     2000-01-01                PARA  GASOLINA C   m3   29755.907000\n",
              "...          ...                 ...         ...  ...            ...\n",
              "54427 2020-12-01   RIO GRANDE DO SUL         GLP   m3   64045.161232\n",
              "54428 2020-12-01  MATO GROSSO DO SUL         GLP   m3   16281.139493\n",
              "54429 2020-12-01         MATO GROSSO         GLP   m3   18321.987319\n",
              "54430 2020-12-01               GOIAS         GLP   m3   46850.585145\n",
              "54431 2020-12-01    DISTRITO FEDERAL         GLP   m3  133282.702899\n",
              "\n",
              "[54432 rows x 5 columns]"
            ],
            "text/html": [
              "\n",
              "  <div id=\"df-c386540f-e336-4a2f-a598-e2093c15d3b2\">\n",
              "    <div class=\"colab-df-container\">\n",
              "      <div>\n",
              "<style scoped>\n",
              "    .dataframe tbody tr th:only-of-type {\n",
              "        vertical-align: middle;\n",
              "    }\n",
              "\n",
              "    .dataframe tbody tr th {\n",
              "        vertical-align: top;\n",
              "    }\n",
              "\n",
              "    .dataframe thead th {\n",
              "        text-align: right;\n",
              "    }\n",
              "</style>\n",
              "<table border=\"1\" class=\"dataframe\">\n",
              "  <thead>\n",
              "    <tr style=\"text-align: right;\">\n",
              "      <th></th>\n",
              "      <th>year_month</th>\n",
              "      <th>uf</th>\n",
              "      <th>product</th>\n",
              "      <th>unit</th>\n",
              "      <th>volume</th>\n",
              "    </tr>\n",
              "  </thead>\n",
              "  <tbody>\n",
              "    <tr>\n",
              "      <th>0</th>\n",
              "      <td>2000-01-01</td>\n",
              "      <td>RONDONIA</td>\n",
              "      <td>GASOLINA C</td>\n",
              "      <td>m3</td>\n",
              "      <td>136073.253000</td>\n",
              "    </tr>\n",
              "    <tr>\n",
              "      <th>1</th>\n",
              "      <td>2000-01-01</td>\n",
              "      <td>ACRE</td>\n",
              "      <td>GASOLINA C</td>\n",
              "      <td>m3</td>\n",
              "      <td>3358.346000</td>\n",
              "    </tr>\n",
              "    <tr>\n",
              "      <th>2</th>\n",
              "      <td>2000-01-01</td>\n",
              "      <td>AMAZONAS</td>\n",
              "      <td>GASOLINA C</td>\n",
              "      <td>m3</td>\n",
              "      <td>20766.918000</td>\n",
              "    </tr>\n",
              "    <tr>\n",
              "      <th>3</th>\n",
              "      <td>2000-01-01</td>\n",
              "      <td>RORAIMA</td>\n",
              "      <td>GASOLINA C</td>\n",
              "      <td>m3</td>\n",
              "      <td>3716.032000</td>\n",
              "    </tr>\n",
              "    <tr>\n",
              "      <th>4</th>\n",
              "      <td>2000-01-01</td>\n",
              "      <td>PARA</td>\n",
              "      <td>GASOLINA C</td>\n",
              "      <td>m3</td>\n",
              "      <td>29755.907000</td>\n",
              "    </tr>\n",
              "    <tr>\n",
              "      <th>...</th>\n",
              "      <td>...</td>\n",
              "      <td>...</td>\n",
              "      <td>...</td>\n",
              "      <td>...</td>\n",
              "      <td>...</td>\n",
              "    </tr>\n",
              "    <tr>\n",
              "      <th>54427</th>\n",
              "      <td>2020-12-01</td>\n",
              "      <td>RIO GRANDE DO SUL</td>\n",
              "      <td>GLP</td>\n",
              "      <td>m3</td>\n",
              "      <td>64045.161232</td>\n",
              "    </tr>\n",
              "    <tr>\n",
              "      <th>54428</th>\n",
              "      <td>2020-12-01</td>\n",
              "      <td>MATO GROSSO DO SUL</td>\n",
              "      <td>GLP</td>\n",
              "      <td>m3</td>\n",
              "      <td>16281.139493</td>\n",
              "    </tr>\n",
              "    <tr>\n",
              "      <th>54429</th>\n",
              "      <td>2020-12-01</td>\n",
              "      <td>MATO GROSSO</td>\n",
              "      <td>GLP</td>\n",
              "      <td>m3</td>\n",
              "      <td>18321.987319</td>\n",
              "    </tr>\n",
              "    <tr>\n",
              "      <th>54430</th>\n",
              "      <td>2020-12-01</td>\n",
              "      <td>GOIAS</td>\n",
              "      <td>GLP</td>\n",
              "      <td>m3</td>\n",
              "      <td>46850.585145</td>\n",
              "    </tr>\n",
              "    <tr>\n",
              "      <th>54431</th>\n",
              "      <td>2020-12-01</td>\n",
              "      <td>DISTRITO FEDERAL</td>\n",
              "      <td>GLP</td>\n",
              "      <td>m3</td>\n",
              "      <td>133282.702899</td>\n",
              "    </tr>\n",
              "  </tbody>\n",
              "</table>\n",
              "<p>54432 rows × 5 columns</p>\n",
              "</div>\n",
              "      <button class=\"colab-df-convert\" onclick=\"convertToInteractive('df-c386540f-e336-4a2f-a598-e2093c15d3b2')\"\n",
              "              title=\"Convert this dataframe to an interactive table.\"\n",
              "              style=\"display:none;\">\n",
              "        \n",
              "  <svg xmlns=\"http://www.w3.org/2000/svg\" height=\"24px\"viewBox=\"0 0 24 24\"\n",
              "       width=\"24px\">\n",
              "    <path d=\"M0 0h24v24H0V0z\" fill=\"none\"/>\n",
              "    <path d=\"M18.56 5.44l.94 2.06.94-2.06 2.06-.94-2.06-.94-.94-2.06-.94 2.06-2.06.94zm-11 1L8.5 8.5l.94-2.06 2.06-.94-2.06-.94L8.5 2.5l-.94 2.06-2.06.94zm10 10l.94 2.06.94-2.06 2.06-.94-2.06-.94-.94-2.06-.94 2.06-2.06.94z\"/><path d=\"M17.41 7.96l-1.37-1.37c-.4-.4-.92-.59-1.43-.59-.52 0-1.04.2-1.43.59L10.3 9.45l-7.72 7.72c-.78.78-.78 2.05 0 2.83L4 21.41c.39.39.9.59 1.41.59.51 0 1.02-.2 1.41-.59l7.78-7.78 2.81-2.81c.8-.78.8-2.07 0-2.86zM5.41 20L4 18.59l7.72-7.72 1.47 1.35L5.41 20z\"/>\n",
              "  </svg>\n",
              "      </button>\n",
              "      \n",
              "  <style>\n",
              "    .colab-df-container {\n",
              "      display:flex;\n",
              "      flex-wrap:wrap;\n",
              "      gap: 12px;\n",
              "    }\n",
              "\n",
              "    .colab-df-convert {\n",
              "      background-color: #E8F0FE;\n",
              "      border: none;\n",
              "      border-radius: 50%;\n",
              "      cursor: pointer;\n",
              "      display: none;\n",
              "      fill: #1967D2;\n",
              "      height: 32px;\n",
              "      padding: 0 0 0 0;\n",
              "      width: 32px;\n",
              "    }\n",
              "\n",
              "    .colab-df-convert:hover {\n",
              "      background-color: #E2EBFA;\n",
              "      box-shadow: 0px 1px 2px rgba(60, 64, 67, 0.3), 0px 1px 3px 1px rgba(60, 64, 67, 0.15);\n",
              "      fill: #174EA6;\n",
              "    }\n",
              "\n",
              "    [theme=dark] .colab-df-convert {\n",
              "      background-color: #3B4455;\n",
              "      fill: #D2E3FC;\n",
              "    }\n",
              "\n",
              "    [theme=dark] .colab-df-convert:hover {\n",
              "      background-color: #434B5C;\n",
              "      box-shadow: 0px 1px 3px 1px rgba(0, 0, 0, 0.15);\n",
              "      filter: drop-shadow(0px 1px 2px rgba(0, 0, 0, 0.3));\n",
              "      fill: #FFFFFF;\n",
              "    }\n",
              "  </style>\n",
              "\n",
              "      <script>\n",
              "        const buttonEl =\n",
              "          document.querySelector('#df-c386540f-e336-4a2f-a598-e2093c15d3b2 button.colab-df-convert');\n",
              "        buttonEl.style.display =\n",
              "          google.colab.kernel.accessAllowed ? 'block' : 'none';\n",
              "\n",
              "        async function convertToInteractive(key) {\n",
              "          const element = document.querySelector('#df-c386540f-e336-4a2f-a598-e2093c15d3b2');\n",
              "          const dataTable =\n",
              "            await google.colab.kernel.invokeFunction('convertToInteractive',\n",
              "                                                     [key], {});\n",
              "          if (!dataTable) return;\n",
              "\n",
              "          const docLinkHtml = 'Like what you see? Visit the ' +\n",
              "            '<a target=\"_blank\" href=https://colab.research.google.com/notebooks/data_table.ipynb>data table notebook</a>'\n",
              "            + ' to learn more about interactive tables.';\n",
              "          element.innerHTML = '';\n",
              "          dataTable['output_type'] = 'display_data';\n",
              "          await google.colab.output.renderOutput(dataTable, element);\n",
              "          const docLink = document.createElement('div');\n",
              "          docLink.innerHTML = docLinkHtml;\n",
              "          element.appendChild(docLink);\n",
              "        }\n",
              "      </script>\n",
              "    </div>\n",
              "  </div>\n",
              "  "
            ]
          },
          "metadata": {},
          "execution_count": 25
        }
      ]
    },
    {
      "cell_type": "markdown",
      "source": [
        "### Checando se o resultado na coluna \"volume\" bate com os valores nas tabelas dinâmicas"
      ],
      "metadata": {
        "id": "ZWUAY-v_mySt"
      }
    },
    {
      "cell_type": "code",
      "source": [
        "totalSum = fuel.groupby([pd.to_datetime(fuel['year_month']).dt.year, \n",
        "                         pd.to_datetime(fuel['year_month']).dt.month, \n",
        "                         'product']).agg({'volume': sum}).round(3)"
      ],
      "metadata": {
        "id": "d_L013AqkOgZ"
      },
      "execution_count": 26,
      "outputs": []
    },
    {
      "cell_type": "code",
      "source": [
        "totalSum"
      ],
      "metadata": {
        "colab": {
          "base_uri": "https://localhost:8080/",
          "height": 455
        },
        "id": "LAH46-7vllZd",
        "outputId": "83fb6a3d-8ce9-48c2-87aa-65b34a76c944"
      },
      "execution_count": 27,
      "outputs": [
        {
          "output_type": "execute_result",
          "data": {
            "text/plain": [
              "                                                 volume\n",
              "year_month year_month product                          \n",
              "2000       1          ETANOL HIDRATADO       450152.863\n",
              "                      GASOLINA C            2664999.835\n",
              "                      GASOLINA DE AVIACAO      7137.909\n",
              "                      GLP                   2230953.696\n",
              "                      OLEO COMBUSTIVEL      1404970.006\n",
              "...                                                 ...\n",
              "2020       12         GLP                   1234468.286\n",
              "                      OLEO COMBUSTIVEL       146470.686\n",
              "                      OLEO DIESEL           6579181.414\n",
              "                      QUEROSENE DE AVIACAO  1396591.332\n",
              "                      QUEROSENE ILUMINANTE      158.000\n",
              "\n",
              "[2016 rows x 1 columns]"
            ],
            "text/html": [
              "\n",
              "  <div id=\"df-45d564eb-4194-49c9-a1f8-cbe85ff9519c\">\n",
              "    <div class=\"colab-df-container\">\n",
              "      <div>\n",
              "<style scoped>\n",
              "    .dataframe tbody tr th:only-of-type {\n",
              "        vertical-align: middle;\n",
              "    }\n",
              "\n",
              "    .dataframe tbody tr th {\n",
              "        vertical-align: top;\n",
              "    }\n",
              "\n",
              "    .dataframe thead th {\n",
              "        text-align: right;\n",
              "    }\n",
              "</style>\n",
              "<table border=\"1\" class=\"dataframe\">\n",
              "  <thead>\n",
              "    <tr style=\"text-align: right;\">\n",
              "      <th></th>\n",
              "      <th></th>\n",
              "      <th></th>\n",
              "      <th>volume</th>\n",
              "    </tr>\n",
              "    <tr>\n",
              "      <th>year_month</th>\n",
              "      <th>year_month</th>\n",
              "      <th>product</th>\n",
              "      <th></th>\n",
              "    </tr>\n",
              "  </thead>\n",
              "  <tbody>\n",
              "    <tr>\n",
              "      <th rowspan=\"5\" valign=\"top\">2000</th>\n",
              "      <th rowspan=\"5\" valign=\"top\">1</th>\n",
              "      <th>ETANOL HIDRATADO</th>\n",
              "      <td>450152.863</td>\n",
              "    </tr>\n",
              "    <tr>\n",
              "      <th>GASOLINA C</th>\n",
              "      <td>2664999.835</td>\n",
              "    </tr>\n",
              "    <tr>\n",
              "      <th>GASOLINA DE AVIACAO</th>\n",
              "      <td>7137.909</td>\n",
              "    </tr>\n",
              "    <tr>\n",
              "      <th>GLP</th>\n",
              "      <td>2230953.696</td>\n",
              "    </tr>\n",
              "    <tr>\n",
              "      <th>OLEO COMBUSTIVEL</th>\n",
              "      <td>1404970.006</td>\n",
              "    </tr>\n",
              "    <tr>\n",
              "      <th>...</th>\n",
              "      <th>...</th>\n",
              "      <th>...</th>\n",
              "      <td>...</td>\n",
              "    </tr>\n",
              "    <tr>\n",
              "      <th rowspan=\"5\" valign=\"top\">2020</th>\n",
              "      <th rowspan=\"5\" valign=\"top\">12</th>\n",
              "      <th>GLP</th>\n",
              "      <td>1234468.286</td>\n",
              "    </tr>\n",
              "    <tr>\n",
              "      <th>OLEO COMBUSTIVEL</th>\n",
              "      <td>146470.686</td>\n",
              "    </tr>\n",
              "    <tr>\n",
              "      <th>OLEO DIESEL</th>\n",
              "      <td>6579181.414</td>\n",
              "    </tr>\n",
              "    <tr>\n",
              "      <th>QUEROSENE DE AVIACAO</th>\n",
              "      <td>1396591.332</td>\n",
              "    </tr>\n",
              "    <tr>\n",
              "      <th>QUEROSENE ILUMINANTE</th>\n",
              "      <td>158.000</td>\n",
              "    </tr>\n",
              "  </tbody>\n",
              "</table>\n",
              "<p>2016 rows × 1 columns</p>\n",
              "</div>\n",
              "      <button class=\"colab-df-convert\" onclick=\"convertToInteractive('df-45d564eb-4194-49c9-a1f8-cbe85ff9519c')\"\n",
              "              title=\"Convert this dataframe to an interactive table.\"\n",
              "              style=\"display:none;\">\n",
              "        \n",
              "  <svg xmlns=\"http://www.w3.org/2000/svg\" height=\"24px\"viewBox=\"0 0 24 24\"\n",
              "       width=\"24px\">\n",
              "    <path d=\"M0 0h24v24H0V0z\" fill=\"none\"/>\n",
              "    <path d=\"M18.56 5.44l.94 2.06.94-2.06 2.06-.94-2.06-.94-.94-2.06-.94 2.06-2.06.94zm-11 1L8.5 8.5l.94-2.06 2.06-.94-2.06-.94L8.5 2.5l-.94 2.06-2.06.94zm10 10l.94 2.06.94-2.06 2.06-.94-2.06-.94-.94-2.06-.94 2.06-2.06.94z\"/><path d=\"M17.41 7.96l-1.37-1.37c-.4-.4-.92-.59-1.43-.59-.52 0-1.04.2-1.43.59L10.3 9.45l-7.72 7.72c-.78.78-.78 2.05 0 2.83L4 21.41c.39.39.9.59 1.41.59.51 0 1.02-.2 1.41-.59l7.78-7.78 2.81-2.81c.8-.78.8-2.07 0-2.86zM5.41 20L4 18.59l7.72-7.72 1.47 1.35L5.41 20z\"/>\n",
              "  </svg>\n",
              "      </button>\n",
              "      \n",
              "  <style>\n",
              "    .colab-df-container {\n",
              "      display:flex;\n",
              "      flex-wrap:wrap;\n",
              "      gap: 12px;\n",
              "    }\n",
              "\n",
              "    .colab-df-convert {\n",
              "      background-color: #E8F0FE;\n",
              "      border: none;\n",
              "      border-radius: 50%;\n",
              "      cursor: pointer;\n",
              "      display: none;\n",
              "      fill: #1967D2;\n",
              "      height: 32px;\n",
              "      padding: 0 0 0 0;\n",
              "      width: 32px;\n",
              "    }\n",
              "\n",
              "    .colab-df-convert:hover {\n",
              "      background-color: #E2EBFA;\n",
              "      box-shadow: 0px 1px 2px rgba(60, 64, 67, 0.3), 0px 1px 3px 1px rgba(60, 64, 67, 0.15);\n",
              "      fill: #174EA6;\n",
              "    }\n",
              "\n",
              "    [theme=dark] .colab-df-convert {\n",
              "      background-color: #3B4455;\n",
              "      fill: #D2E3FC;\n",
              "    }\n",
              "\n",
              "    [theme=dark] .colab-df-convert:hover {\n",
              "      background-color: #434B5C;\n",
              "      box-shadow: 0px 1px 3px 1px rgba(0, 0, 0, 0.15);\n",
              "      filter: drop-shadow(0px 1px 2px rgba(0, 0, 0, 0.3));\n",
              "      fill: #FFFFFF;\n",
              "    }\n",
              "  </style>\n",
              "\n",
              "      <script>\n",
              "        const buttonEl =\n",
              "          document.querySelector('#df-45d564eb-4194-49c9-a1f8-cbe85ff9519c button.colab-df-convert');\n",
              "        buttonEl.style.display =\n",
              "          google.colab.kernel.accessAllowed ? 'block' : 'none';\n",
              "\n",
              "        async function convertToInteractive(key) {\n",
              "          const element = document.querySelector('#df-45d564eb-4194-49c9-a1f8-cbe85ff9519c');\n",
              "          const dataTable =\n",
              "            await google.colab.kernel.invokeFunction('convertToInteractive',\n",
              "                                                     [key], {});\n",
              "          if (!dataTable) return;\n",
              "\n",
              "          const docLinkHtml = 'Like what you see? Visit the ' +\n",
              "            '<a target=\"_blank\" href=https://colab.research.google.com/notebooks/data_table.ipynb>data table notebook</a>'\n",
              "            + ' to learn more about interactive tables.';\n",
              "          element.innerHTML = '';\n",
              "          dataTable['output_type'] = 'display_data';\n",
              "          await google.colab.output.renderOutput(dataTable, element);\n",
              "          const docLink = document.createElement('div');\n",
              "          docLink.innerHTML = docLinkHtml;\n",
              "          element.appendChild(docLink);\n",
              "        }\n",
              "      </script>\n",
              "    </div>\n",
              "  </div>\n",
              "  "
            ]
          },
          "metadata": {},
          "execution_count": 27
        }
      ]
    },
    {
      "cell_type": "markdown",
      "source": [
        "![Captura de tela de 2022-06-12 22-14-09.png](data:image/png;base64,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)"
      ],
      "metadata": {
        "id": "U9KsFpUtoWTa"
      }
    },
    {
      "cell_type": "markdown",
      "source": [
        "![Captura de tela de 2022-06-12 22-14-21.png](data:image/png;base64,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)"
      ],
      "metadata": {
        "id": "qneayJR_oreO"
      }
    },
    {
      "cell_type": "markdown",
      "source": [
        "![Captura de tela de 2022-06-12 22-15-30.png](data:image/png;base64,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)"
      ],
      "metadata": {
        "id": "GvxbnQ5JodzK"
      }
    },
    {
      "cell_type": "markdown",
      "source": [
        "### Verificando o tamanho máximo de caracteres das colunas"
      ],
      "metadata": {
        "id": "ngBehdoPVB4_"
      }
    },
    {
      "cell_type": "code",
      "source": [
        "import numpy as np\n",
        "measurer = np.vectorize(len)\n",
        "size = dict(zip(fuel, measurer(fuel.values.astype(str)).max(axis=0)))\n",
        "size"
      ],
      "metadata": {
        "colab": {
          "base_uri": "https://localhost:8080/"
        },
        "id": "ytGWssz-TEJm",
        "outputId": "651ab7f2-f4f0-4fa9-f9c1-41acbfeef289"
      },
      "execution_count": 28,
      "outputs": [
        {
          "output_type": "execute_result",
          "data": {
            "text/plain": [
              "{'product': 20, 'uf': 19, 'unit': 2, 'volume': 20, 'year_month': 19}"
            ]
          },
          "metadata": {},
          "execution_count": 28
        }
      ]
    },
    {
      "cell_type": "markdown",
      "source": [
        "Fuel = {'product': 21, 'uf': 19, 'unit': 2, 'volume': 20, 'year_month': 19}\n",
        "\n",
        "Diesel = {'product': 22, 'uf': 19, 'unit': 2, 'volume': 18, 'year_month': 19}"
      ],
      "metadata": {
        "id": "rRNYYckbUgK1"
      }
    }
  ]
}