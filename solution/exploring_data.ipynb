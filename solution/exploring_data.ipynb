{
  "nbformat": 4,
  "nbformat_minor": 0,
  "metadata": {
    "colab": {
      "name": "exploring_data.ipynb",
      "provenance": [],
      "collapsed_sections": []
    },
    "kernelspec": {
      "name": "python3",
      "display_name": "Python 3"
    },
    "language_info": {
      "name": "python"
    }
  },
  "cells": [
    {
      "cell_type": "markdown",
      "source": [
        "### Importando biblioteca"
      ],
      "metadata": {
        "id": "afE21prdXej7"
      }
    },
    {
      "cell_type": "code",
      "execution_count": null,
      "metadata": {
        "id": "8JhO5jy4m6HZ"
      },
      "outputs": [],
      "source": [
        "#!pip install odfpy"
      ]
    },
    {
      "cell_type": "code",
      "source": [
        "import pandas as pd"
      ],
      "metadata": {
        "id": "KH_4ujDBn1I3"
      },
      "execution_count": null,
      "outputs": []
    },
    {
      "cell_type": "markdown",
      "source": [
        "### Lendo a base de dados"
      ],
      "metadata": {
        "id": "dobUHmZ5Xh8D"
      }
    },
    {
      "cell_type": "code",
      "source": [
        "fuel = pd.read_excel('/content/vendas-combustiveis-m3.ods', sheet_name='DPCache_m3')"
      ],
      "metadata": {
        "id": "q2D_hsazn198"
      },
      "execution_count": null,
      "outputs": []
    },
    {
      "cell_type": "code",
      "source": [
        "#fuel = pd.read_excel('/content/vendas-combustiveis-m3.ods', sheet_name='DPCache_m3_2')"
      ],
      "metadata": {
        "id": "uyBLZ2aETUKP"
      },
      "execution_count": null,
      "outputs": []
    },
    {
      "cell_type": "code",
      "source": [
        "fuel"
      ],
      "metadata": {
        "colab": {
          "base_uri": "https://localhost:8080/",
          "height": 748
        },
        "id": "sKrbZ3kU9rvI",
        "outputId": "9bf8a8f9-5698-4567-c4a5-bfe447960561"
      },
      "execution_count": null,
      "outputs": [
        {
          "output_type": "execute_result",
          "data": {
            "text/plain": [
              "          COMBUSTÍVEL   ANO               REGIÃO              ESTADO  \\\n",
              "0     GASOLINA C (m3)  2000         REGIÃO NORTE            RONDÔNIA   \n",
              "1     GASOLINA C (m3)  2000         REGIÃO NORTE                ACRE   \n",
              "2     GASOLINA C (m3)  2000         REGIÃO NORTE            AMAZONAS   \n",
              "3     GASOLINA C (m3)  2000         REGIÃO NORTE             RORAIMA   \n",
              "4     GASOLINA C (m3)  2000         REGIÃO NORTE                PARÁ   \n",
              "...               ...   ...                  ...                 ...   \n",
              "4531         GLP (m3)  2020           REGIÃO SUL   RIO GRANDE DO SUL   \n",
              "4532         GLP (m3)  2020  REGIÃO CENTRO-OESTE  MATO GROSSO DO SUL   \n",
              "4533         GLP (m3)  2020  REGIÃO CENTRO-OESTE         MATO GROSSO   \n",
              "4534         GLP (m3)  2020  REGIÃO CENTRO-OESTE               GOIÁS   \n",
              "4535         GLP (m3)  2020  REGIÃO CENTRO-OESTE    DISTRITO FEDERAL   \n",
              "\n",
              "                Jan           Fev            Mar           Abr            Mai  \\\n",
              "0     136073.253000   9563.263000   11341.229000   9369.746000   10719.983000   \n",
              "1       3358.346000  40001.853000    3065.758000   3495.290000    2946.930000   \n",
              "2      20766.918000  21180.919000  242742.352000  17615.604000   20258.200000   \n",
              "3       3716.032000   3200.400000    3339.332000  43338.929000    3259.300000   \n",
              "4      29755.907000  28661.951000   28145.784000  29294.796000  359575.398000   \n",
              "...             ...           ...            ...           ...            ...   \n",
              "4531   73247.920290  81469.222826   75607.009058  72818.829710            NaN   \n",
              "4532   15190.643116  15877.811594   16876.476449  16036.112319   14687.788043   \n",
              "4533   19118.619565  18773.081522   19899.867754  20678.385870   18972.943841   \n",
              "4534   53302.086957  48894.621377   47184.788043  49687.793478   52665.449275   \n",
              "4535   13883.065217  16011.333333   15887.492754  13463.275362   15325.704710   \n",
              "\n",
              "               Jun           Jul            Ago            Set            Out  \\\n",
              "0     11165.968000  12312.451000   11220.970000   12482.281000   13591.122000   \n",
              "1      3023.920000   3206.930000    3612.580000    3264.460000    3835.740000   \n",
              "2     18741.344000  19604.023000   20221.674000   20792.616000   19912.898000   \n",
              "3      3636.216000   3631.569000    3348.416000    3394.016000    4078.616000   \n",
              "4     28830.479000  32297.047000   27310.979000   29396.384000   26511.009000   \n",
              "...            ...           ...            ...            ...            ...   \n",
              "4531           NaN           NaN  618788.938406   58679.211957   57649.414855   \n",
              "4532           NaN           NaN            NaN  137899.302536   13774.106884   \n",
              "4533  18051.436594           NaN            NaN            NaN  173256.967391   \n",
              "4534  50069.005435  48032.530797            NaN            NaN            NaN   \n",
              "4535  15689.914855  15358.490942   13937.451087            NaN            NaN   \n",
              "\n",
              "                Nov            Dez         TOTAL  \n",
              "0      11940.570000   11547.576000  10818.094000  \n",
              "1       3676.571000    3225.610000   3289.718000  \n",
              "2      21869.338000   21145.643000  20633.175000  \n",
              "3       3346.616000    4029.900000   4358.516000  \n",
              "4      36553.250000   31807.840000  31009.972000  \n",
              "...             ...            ...           ...  \n",
              "4531   68522.800725   64045.161232  66749.367754  \n",
              "4532   14137.695652   16281.139493  15037.528986  \n",
              "4533   18763.161232   18321.987319  20677.483696  \n",
              "4534  443268.739130   46850.585145  46581.878623  \n",
              "4535            NaN  133282.702899  13725.974638  \n",
              "\n",
              "[4536 rows x 17 columns]"
            ],
            "text/html": [
              "\n",
              "  <div id=\"df-0175ab14-73d4-40a5-b7f1-8b25459e9d6a\">\n",
              "    <div class=\"colab-df-container\">\n",
              "      <div>\n",
              "<style scoped>\n",
              "    .dataframe tbody tr th:only-of-type {\n",
              "        vertical-align: middle;\n",
              "    }\n",
              "\n",
              "    .dataframe tbody tr th {\n",
              "        vertical-align: top;\n",
              "    }\n",
              "\n",
              "    .dataframe thead th {\n",
              "        text-align: right;\n",
              "    }\n",
              "</style>\n",
              "<table border=\"1\" class=\"dataframe\">\n",
              "  <thead>\n",
              "    <tr style=\"text-align: right;\">\n",
              "      <th></th>\n",
              "      <th>COMBUSTÍVEL</th>\n",
              "      <th>ANO</th>\n",
              "      <th>REGIÃO</th>\n",
              "      <th>ESTADO</th>\n",
              "      <th>Jan</th>\n",
              "      <th>Fev</th>\n",
              "      <th>Mar</th>\n",
              "      <th>Abr</th>\n",
              "      <th>Mai</th>\n",
              "      <th>Jun</th>\n",
              "      <th>Jul</th>\n",
              "      <th>Ago</th>\n",
              "      <th>Set</th>\n",
              "      <th>Out</th>\n",
              "      <th>Nov</th>\n",
              "      <th>Dez</th>\n",
              "      <th>TOTAL</th>\n",
              "    </tr>\n",
              "  </thead>\n",
              "  <tbody>\n",
              "    <tr>\n",
              "      <th>0</th>\n",
              "      <td>GASOLINA C (m3)</td>\n",
              "      <td>2000</td>\n",
              "      <td>REGIÃO NORTE</td>\n",
              "      <td>RONDÔNIA</td>\n",
              "      <td>136073.253000</td>\n",
              "      <td>9563.263000</td>\n",
              "      <td>11341.229000</td>\n",
              "      <td>9369.746000</td>\n",
              "      <td>10719.983000</td>\n",
              "      <td>11165.968000</td>\n",
              "      <td>12312.451000</td>\n",
              "      <td>11220.970000</td>\n",
              "      <td>12482.281000</td>\n",
              "      <td>13591.122000</td>\n",
              "      <td>11940.570000</td>\n",
              "      <td>11547.576000</td>\n",
              "      <td>10818.094000</td>\n",
              "    </tr>\n",
              "    <tr>\n",
              "      <th>1</th>\n",
              "      <td>GASOLINA C (m3)</td>\n",
              "      <td>2000</td>\n",
              "      <td>REGIÃO NORTE</td>\n",
              "      <td>ACRE</td>\n",
              "      <td>3358.346000</td>\n",
              "      <td>40001.853000</td>\n",
              "      <td>3065.758000</td>\n",
              "      <td>3495.290000</td>\n",
              "      <td>2946.930000</td>\n",
              "      <td>3023.920000</td>\n",
              "      <td>3206.930000</td>\n",
              "      <td>3612.580000</td>\n",
              "      <td>3264.460000</td>\n",
              "      <td>3835.740000</td>\n",
              "      <td>3676.571000</td>\n",
              "      <td>3225.610000</td>\n",
              "      <td>3289.718000</td>\n",
              "    </tr>\n",
              "    <tr>\n",
              "      <th>2</th>\n",
              "      <td>GASOLINA C (m3)</td>\n",
              "      <td>2000</td>\n",
              "      <td>REGIÃO NORTE</td>\n",
              "      <td>AMAZONAS</td>\n",
              "      <td>20766.918000</td>\n",
              "      <td>21180.919000</td>\n",
              "      <td>242742.352000</td>\n",
              "      <td>17615.604000</td>\n",
              "      <td>20258.200000</td>\n",
              "      <td>18741.344000</td>\n",
              "      <td>19604.023000</td>\n",
              "      <td>20221.674000</td>\n",
              "      <td>20792.616000</td>\n",
              "      <td>19912.898000</td>\n",
              "      <td>21869.338000</td>\n",
              "      <td>21145.643000</td>\n",
              "      <td>20633.175000</td>\n",
              "    </tr>\n",
              "    <tr>\n",
              "      <th>3</th>\n",
              "      <td>GASOLINA C (m3)</td>\n",
              "      <td>2000</td>\n",
              "      <td>REGIÃO NORTE</td>\n",
              "      <td>RORAIMA</td>\n",
              "      <td>3716.032000</td>\n",
              "      <td>3200.400000</td>\n",
              "      <td>3339.332000</td>\n",
              "      <td>43338.929000</td>\n",
              "      <td>3259.300000</td>\n",
              "      <td>3636.216000</td>\n",
              "      <td>3631.569000</td>\n",
              "      <td>3348.416000</td>\n",
              "      <td>3394.016000</td>\n",
              "      <td>4078.616000</td>\n",
              "      <td>3346.616000</td>\n",
              "      <td>4029.900000</td>\n",
              "      <td>4358.516000</td>\n",
              "    </tr>\n",
              "    <tr>\n",
              "      <th>4</th>\n",
              "      <td>GASOLINA C (m3)</td>\n",
              "      <td>2000</td>\n",
              "      <td>REGIÃO NORTE</td>\n",
              "      <td>PARÁ</td>\n",
              "      <td>29755.907000</td>\n",
              "      <td>28661.951000</td>\n",
              "      <td>28145.784000</td>\n",
              "      <td>29294.796000</td>\n",
              "      <td>359575.398000</td>\n",
              "      <td>28830.479000</td>\n",
              "      <td>32297.047000</td>\n",
              "      <td>27310.979000</td>\n",
              "      <td>29396.384000</td>\n",
              "      <td>26511.009000</td>\n",
              "      <td>36553.250000</td>\n",
              "      <td>31807.840000</td>\n",
              "      <td>31009.972000</td>\n",
              "    </tr>\n",
              "    <tr>\n",
              "      <th>...</th>\n",
              "      <td>...</td>\n",
              "      <td>...</td>\n",
              "      <td>...</td>\n",
              "      <td>...</td>\n",
              "      <td>...</td>\n",
              "      <td>...</td>\n",
              "      <td>...</td>\n",
              "      <td>...</td>\n",
              "      <td>...</td>\n",
              "      <td>...</td>\n",
              "      <td>...</td>\n",
              "      <td>...</td>\n",
              "      <td>...</td>\n",
              "      <td>...</td>\n",
              "      <td>...</td>\n",
              "      <td>...</td>\n",
              "      <td>...</td>\n",
              "    </tr>\n",
              "    <tr>\n",
              "      <th>4531</th>\n",
              "      <td>GLP (m3)</td>\n",
              "      <td>2020</td>\n",
              "      <td>REGIÃO SUL</td>\n",
              "      <td>RIO GRANDE DO SUL</td>\n",
              "      <td>73247.920290</td>\n",
              "      <td>81469.222826</td>\n",
              "      <td>75607.009058</td>\n",
              "      <td>72818.829710</td>\n",
              "      <td>NaN</td>\n",
              "      <td>NaN</td>\n",
              "      <td>NaN</td>\n",
              "      <td>618788.938406</td>\n",
              "      <td>58679.211957</td>\n",
              "      <td>57649.414855</td>\n",
              "      <td>68522.800725</td>\n",
              "      <td>64045.161232</td>\n",
              "      <td>66749.367754</td>\n",
              "    </tr>\n",
              "    <tr>\n",
              "      <th>4532</th>\n",
              "      <td>GLP (m3)</td>\n",
              "      <td>2020</td>\n",
              "      <td>REGIÃO CENTRO-OESTE</td>\n",
              "      <td>MATO GROSSO DO SUL</td>\n",
              "      <td>15190.643116</td>\n",
              "      <td>15877.811594</td>\n",
              "      <td>16876.476449</td>\n",
              "      <td>16036.112319</td>\n",
              "      <td>14687.788043</td>\n",
              "      <td>NaN</td>\n",
              "      <td>NaN</td>\n",
              "      <td>NaN</td>\n",
              "      <td>137899.302536</td>\n",
              "      <td>13774.106884</td>\n",
              "      <td>14137.695652</td>\n",
              "      <td>16281.139493</td>\n",
              "      <td>15037.528986</td>\n",
              "    </tr>\n",
              "    <tr>\n",
              "      <th>4533</th>\n",
              "      <td>GLP (m3)</td>\n",
              "      <td>2020</td>\n",
              "      <td>REGIÃO CENTRO-OESTE</td>\n",
              "      <td>MATO GROSSO</td>\n",
              "      <td>19118.619565</td>\n",
              "      <td>18773.081522</td>\n",
              "      <td>19899.867754</td>\n",
              "      <td>20678.385870</td>\n",
              "      <td>18972.943841</td>\n",
              "      <td>18051.436594</td>\n",
              "      <td>NaN</td>\n",
              "      <td>NaN</td>\n",
              "      <td>NaN</td>\n",
              "      <td>173256.967391</td>\n",
              "      <td>18763.161232</td>\n",
              "      <td>18321.987319</td>\n",
              "      <td>20677.483696</td>\n",
              "    </tr>\n",
              "    <tr>\n",
              "      <th>4534</th>\n",
              "      <td>GLP (m3)</td>\n",
              "      <td>2020</td>\n",
              "      <td>REGIÃO CENTRO-OESTE</td>\n",
              "      <td>GOIÁS</td>\n",
              "      <td>53302.086957</td>\n",
              "      <td>48894.621377</td>\n",
              "      <td>47184.788043</td>\n",
              "      <td>49687.793478</td>\n",
              "      <td>52665.449275</td>\n",
              "      <td>50069.005435</td>\n",
              "      <td>48032.530797</td>\n",
              "      <td>NaN</td>\n",
              "      <td>NaN</td>\n",
              "      <td>NaN</td>\n",
              "      <td>443268.739130</td>\n",
              "      <td>46850.585145</td>\n",
              "      <td>46581.878623</td>\n",
              "    </tr>\n",
              "    <tr>\n",
              "      <th>4535</th>\n",
              "      <td>GLP (m3)</td>\n",
              "      <td>2020</td>\n",
              "      <td>REGIÃO CENTRO-OESTE</td>\n",
              "      <td>DISTRITO FEDERAL</td>\n",
              "      <td>13883.065217</td>\n",
              "      <td>16011.333333</td>\n",
              "      <td>15887.492754</td>\n",
              "      <td>13463.275362</td>\n",
              "      <td>15325.704710</td>\n",
              "      <td>15689.914855</td>\n",
              "      <td>15358.490942</td>\n",
              "      <td>13937.451087</td>\n",
              "      <td>NaN</td>\n",
              "      <td>NaN</td>\n",
              "      <td>NaN</td>\n",
              "      <td>133282.702899</td>\n",
              "      <td>13725.974638</td>\n",
              "    </tr>\n",
              "  </tbody>\n",
              "</table>\n",
              "<p>4536 rows × 17 columns</p>\n",
              "</div>\n",
              "      <button class=\"colab-df-convert\" onclick=\"convertToInteractive('df-0175ab14-73d4-40a5-b7f1-8b25459e9d6a')\"\n",
              "              title=\"Convert this dataframe to an interactive table.\"\n",
              "              style=\"display:none;\">\n",
              "        \n",
              "  <svg xmlns=\"http://www.w3.org/2000/svg\" height=\"24px\"viewBox=\"0 0 24 24\"\n",
              "       width=\"24px\">\n",
              "    <path d=\"M0 0h24v24H0V0z\" fill=\"none\"/>\n",
              "    <path d=\"M18.56 5.44l.94 2.06.94-2.06 2.06-.94-2.06-.94-.94-2.06-.94 2.06-2.06.94zm-11 1L8.5 8.5l.94-2.06 2.06-.94-2.06-.94L8.5 2.5l-.94 2.06-2.06.94zm10 10l.94 2.06.94-2.06 2.06-.94-2.06-.94-.94-2.06-.94 2.06-2.06.94z\"/><path d=\"M17.41 7.96l-1.37-1.37c-.4-.4-.92-.59-1.43-.59-.52 0-1.04.2-1.43.59L10.3 9.45l-7.72 7.72c-.78.78-.78 2.05 0 2.83L4 21.41c.39.39.9.59 1.41.59.51 0 1.02-.2 1.41-.59l7.78-7.78 2.81-2.81c.8-.78.8-2.07 0-2.86zM5.41 20L4 18.59l7.72-7.72 1.47 1.35L5.41 20z\"/>\n",
              "  </svg>\n",
              "      </button>\n",
              "      \n",
              "  <style>\n",
              "    .colab-df-container {\n",
              "      display:flex;\n",
              "      flex-wrap:wrap;\n",
              "      gap: 12px;\n",
              "    }\n",
              "\n",
              "    .colab-df-convert {\n",
              "      background-color: #E8F0FE;\n",
              "      border: none;\n",
              "      border-radius: 50%;\n",
              "      cursor: pointer;\n",
              "      display: none;\n",
              "      fill: #1967D2;\n",
              "      height: 32px;\n",
              "      padding: 0 0 0 0;\n",
              "      width: 32px;\n",
              "    }\n",
              "\n",
              "    .colab-df-convert:hover {\n",
              "      background-color: #E2EBFA;\n",
              "      box-shadow: 0px 1px 2px rgba(60, 64, 67, 0.3), 0px 1px 3px 1px rgba(60, 64, 67, 0.15);\n",
              "      fill: #174EA6;\n",
              "    }\n",
              "\n",
              "    [theme=dark] .colab-df-convert {\n",
              "      background-color: #3B4455;\n",
              "      fill: #D2E3FC;\n",
              "    }\n",
              "\n",
              "    [theme=dark] .colab-df-convert:hover {\n",
              "      background-color: #434B5C;\n",
              "      box-shadow: 0px 1px 3px 1px rgba(0, 0, 0, 0.15);\n",
              "      filter: drop-shadow(0px 1px 2px rgba(0, 0, 0, 0.3));\n",
              "      fill: #FFFFFF;\n",
              "    }\n",
              "  </style>\n",
              "\n",
              "      <script>\n",
              "        const buttonEl =\n",
              "          document.querySelector('#df-0175ab14-73d4-40a5-b7f1-8b25459e9d6a button.colab-df-convert');\n",
              "        buttonEl.style.display =\n",
              "          google.colab.kernel.accessAllowed ? 'block' : 'none';\n",
              "\n",
              "        async function convertToInteractive(key) {\n",
              "          const element = document.querySelector('#df-0175ab14-73d4-40a5-b7f1-8b25459e9d6a');\n",
              "          const dataTable =\n",
              "            await google.colab.kernel.invokeFunction('convertToInteractive',\n",
              "                                                     [key], {});\n",
              "          if (!dataTable) return;\n",
              "\n",
              "          const docLinkHtml = 'Like what you see? Visit the ' +\n",
              "            '<a target=\"_blank\" href=https://colab.research.google.com/notebooks/data_table.ipynb>data table notebook</a>'\n",
              "            + ' to learn more about interactive tables.';\n",
              "          element.innerHTML = '';\n",
              "          dataTable['output_type'] = 'display_data';\n",
              "          await google.colab.output.renderOutput(dataTable, element);\n",
              "          const docLink = document.createElement('div');\n",
              "          docLink.innerHTML = docLinkHtml;\n",
              "          element.appendChild(docLink);\n",
              "        }\n",
              "      </script>\n",
              "    </div>\n",
              "  </div>\n",
              "  "
            ]
          },
          "metadata": {},
          "execution_count": 5
        }
      ]
    },
    {
      "cell_type": "markdown",
      "source": [
        "Analisando os tipos dos dados existentes no arquivo"
      ],
      "metadata": {
        "id": "G42gYM_LcTbb"
      }
    },
    {
      "cell_type": "code",
      "source": [
        "fuel.dtypes"
      ],
      "metadata": {
        "colab": {
          "base_uri": "https://localhost:8080/"
        },
        "id": "SoiezLsgAz0n",
        "outputId": "f6d3d7dc-6b75-4213-9868-80bedc240477"
      },
      "execution_count": null,
      "outputs": [
        {
          "output_type": "execute_result",
          "data": {
            "text/plain": [
              "COMBUSTÍVEL     object\n",
              "ANO              int64\n",
              "REGIÃO          object\n",
              "ESTADO          object\n",
              "Jan            float64\n",
              "Fev            float64\n",
              "Mar            float64\n",
              "Abr            float64\n",
              "Mai            float64\n",
              "Jun            float64\n",
              "Jul            float64\n",
              "Ago            float64\n",
              "Set            float64\n",
              "Out            float64\n",
              "Nov            float64\n",
              "Dez            float64\n",
              "TOTAL          float64\n",
              "dtype: object"
            ]
          },
          "metadata": {},
          "execution_count": 6
        }
      ]
    },
    {
      "cell_type": "markdown",
      "source": [
        "### Renomeando as colunas"
      ],
      "metadata": {
        "id": "EtU7RJmTcXks"
      }
    },
    {
      "cell_type": "code",
      "source": [
        "fuel.rename(columns = {'COMBUSTÍVEL':'COMBUSTIVEL', 'REGIÃO':'REGIAO', 'Jan':'1', 'Fev':'2', \n",
        "                     'Mar':'3', 'Abr':'4', 'Mai':'5', 'Jun':'6',  'Jul':'7', 'Ago':'8', \n",
        "                     'Set':'9', 'Out':'10', 'Nov':'11', 'Dez':'12'}, inplace = True)"
      ],
      "metadata": {
        "id": "kjLYNf3j9-Wt"
      },
      "execution_count": null,
      "outputs": []
    },
    {
      "cell_type": "markdown",
      "source": [
        "### Alterando o formato do dataframe"
      ],
      "metadata": {
        "id": "OejsfblkVY92"
      }
    },
    {
      "cell_type": "code",
      "source": [
        "fuel = pd.melt(fuel, id_vars=['COMBUSTIVEL', 'ANO', 'REGIAO', 'ESTADO'], \n",
        "                 var_name = 'MES', value_name = 'melt_total')"
      ],
      "metadata": {
        "id": "-R8I5kzH03S7"
      },
      "execution_count": null,
      "outputs": []
    },
    {
      "cell_type": "code",
      "source": [
        "fuel"
      ],
      "metadata": {
        "colab": {
          "base_uri": "https://localhost:8080/",
          "height": 748
        },
        "id": "k-RmiWsX3MG1",
        "outputId": "9052b0b9-8f44-43dd-edce-597921eb83c4"
      },
      "execution_count": null,
      "outputs": [
        {
          "output_type": "execute_result",
          "data": {
            "text/plain": [
              "           COMBUSTIVEL   ANO               REGIAO              ESTADO    MES  \\\n",
              "0      GASOLINA C (m3)  2000         REGIÃO NORTE            RONDÔNIA      1   \n",
              "1      GASOLINA C (m3)  2000         REGIÃO NORTE                ACRE      1   \n",
              "2      GASOLINA C (m3)  2000         REGIÃO NORTE            AMAZONAS      1   \n",
              "3      GASOLINA C (m3)  2000         REGIÃO NORTE             RORAIMA      1   \n",
              "4      GASOLINA C (m3)  2000         REGIÃO NORTE                PARÁ      1   \n",
              "...                ...   ...                  ...                 ...    ...   \n",
              "58963         GLP (m3)  2020           REGIÃO SUL   RIO GRANDE DO SUL  TOTAL   \n",
              "58964         GLP (m3)  2020  REGIÃO CENTRO-OESTE  MATO GROSSO DO SUL  TOTAL   \n",
              "58965         GLP (m3)  2020  REGIÃO CENTRO-OESTE         MATO GROSSO  TOTAL   \n",
              "58966         GLP (m3)  2020  REGIÃO CENTRO-OESTE               GOIÁS  TOTAL   \n",
              "58967         GLP (m3)  2020  REGIÃO CENTRO-OESTE    DISTRITO FEDERAL  TOTAL   \n",
              "\n",
              "          melt_total  \n",
              "0      136073.253000  \n",
              "1        3358.346000  \n",
              "2       20766.918000  \n",
              "3        3716.032000  \n",
              "4       29755.907000  \n",
              "...              ...  \n",
              "58963   66749.367754  \n",
              "58964   15037.528986  \n",
              "58965   20677.483696  \n",
              "58966   46581.878623  \n",
              "58967   13725.974638  \n",
              "\n",
              "[58968 rows x 6 columns]"
            ],
            "text/html": [
              "\n",
              "  <div id=\"df-d9761f49-ec07-4e08-893b-7a9c047ce50d\">\n",
              "    <div class=\"colab-df-container\">\n",
              "      <div>\n",
              "<style scoped>\n",
              "    .dataframe tbody tr th:only-of-type {\n",
              "        vertical-align: middle;\n",
              "    }\n",
              "\n",
              "    .dataframe tbody tr th {\n",
              "        vertical-align: top;\n",
              "    }\n",
              "\n",
              "    .dataframe thead th {\n",
              "        text-align: right;\n",
              "    }\n",
              "</style>\n",
              "<table border=\"1\" class=\"dataframe\">\n",
              "  <thead>\n",
              "    <tr style=\"text-align: right;\">\n",
              "      <th></th>\n",
              "      <th>COMBUSTIVEL</th>\n",
              "      <th>ANO</th>\n",
              "      <th>REGIAO</th>\n",
              "      <th>ESTADO</th>\n",
              "      <th>MES</th>\n",
              "      <th>melt_total</th>\n",
              "    </tr>\n",
              "  </thead>\n",
              "  <tbody>\n",
              "    <tr>\n",
              "      <th>0</th>\n",
              "      <td>GASOLINA C (m3)</td>\n",
              "      <td>2000</td>\n",
              "      <td>REGIÃO NORTE</td>\n",
              "      <td>RONDÔNIA</td>\n",
              "      <td>1</td>\n",
              "      <td>136073.253000</td>\n",
              "    </tr>\n",
              "    <tr>\n",
              "      <th>1</th>\n",
              "      <td>GASOLINA C (m3)</td>\n",
              "      <td>2000</td>\n",
              "      <td>REGIÃO NORTE</td>\n",
              "      <td>ACRE</td>\n",
              "      <td>1</td>\n",
              "      <td>3358.346000</td>\n",
              "    </tr>\n",
              "    <tr>\n",
              "      <th>2</th>\n",
              "      <td>GASOLINA C (m3)</td>\n",
              "      <td>2000</td>\n",
              "      <td>REGIÃO NORTE</td>\n",
              "      <td>AMAZONAS</td>\n",
              "      <td>1</td>\n",
              "      <td>20766.918000</td>\n",
              "    </tr>\n",
              "    <tr>\n",
              "      <th>3</th>\n",
              "      <td>GASOLINA C (m3)</td>\n",
              "      <td>2000</td>\n",
              "      <td>REGIÃO NORTE</td>\n",
              "      <td>RORAIMA</td>\n",
              "      <td>1</td>\n",
              "      <td>3716.032000</td>\n",
              "    </tr>\n",
              "    <tr>\n",
              "      <th>4</th>\n",
              "      <td>GASOLINA C (m3)</td>\n",
              "      <td>2000</td>\n",
              "      <td>REGIÃO NORTE</td>\n",
              "      <td>PARÁ</td>\n",
              "      <td>1</td>\n",
              "      <td>29755.907000</td>\n",
              "    </tr>\n",
              "    <tr>\n",
              "      <th>...</th>\n",
              "      <td>...</td>\n",
              "      <td>...</td>\n",
              "      <td>...</td>\n",
              "      <td>...</td>\n",
              "      <td>...</td>\n",
              "      <td>...</td>\n",
              "    </tr>\n",
              "    <tr>\n",
              "      <th>58963</th>\n",
              "      <td>GLP (m3)</td>\n",
              "      <td>2020</td>\n",
              "      <td>REGIÃO SUL</td>\n",
              "      <td>RIO GRANDE DO SUL</td>\n",
              "      <td>TOTAL</td>\n",
              "      <td>66749.367754</td>\n",
              "    </tr>\n",
              "    <tr>\n",
              "      <th>58964</th>\n",
              "      <td>GLP (m3)</td>\n",
              "      <td>2020</td>\n",
              "      <td>REGIÃO CENTRO-OESTE</td>\n",
              "      <td>MATO GROSSO DO SUL</td>\n",
              "      <td>TOTAL</td>\n",
              "      <td>15037.528986</td>\n",
              "    </tr>\n",
              "    <tr>\n",
              "      <th>58965</th>\n",
              "      <td>GLP (m3)</td>\n",
              "      <td>2020</td>\n",
              "      <td>REGIÃO CENTRO-OESTE</td>\n",
              "      <td>MATO GROSSO</td>\n",
              "      <td>TOTAL</td>\n",
              "      <td>20677.483696</td>\n",
              "    </tr>\n",
              "    <tr>\n",
              "      <th>58966</th>\n",
              "      <td>GLP (m3)</td>\n",
              "      <td>2020</td>\n",
              "      <td>REGIÃO CENTRO-OESTE</td>\n",
              "      <td>GOIÁS</td>\n",
              "      <td>TOTAL</td>\n",
              "      <td>46581.878623</td>\n",
              "    </tr>\n",
              "    <tr>\n",
              "      <th>58967</th>\n",
              "      <td>GLP (m3)</td>\n",
              "      <td>2020</td>\n",
              "      <td>REGIÃO CENTRO-OESTE</td>\n",
              "      <td>DISTRITO FEDERAL</td>\n",
              "      <td>TOTAL</td>\n",
              "      <td>13725.974638</td>\n",
              "    </tr>\n",
              "  </tbody>\n",
              "</table>\n",
              "<p>58968 rows × 6 columns</p>\n",
              "</div>\n",
              "      <button class=\"colab-df-convert\" onclick=\"convertToInteractive('df-d9761f49-ec07-4e08-893b-7a9c047ce50d')\"\n",
              "              title=\"Convert this dataframe to an interactive table.\"\n",
              "              style=\"display:none;\">\n",
              "        \n",
              "  <svg xmlns=\"http://www.w3.org/2000/svg\" height=\"24px\"viewBox=\"0 0 24 24\"\n",
              "       width=\"24px\">\n",
              "    <path d=\"M0 0h24v24H0V0z\" fill=\"none\"/>\n",
              "    <path d=\"M18.56 5.44l.94 2.06.94-2.06 2.06-.94-2.06-.94-.94-2.06-.94 2.06-2.06.94zm-11 1L8.5 8.5l.94-2.06 2.06-.94-2.06-.94L8.5 2.5l-.94 2.06-2.06.94zm10 10l.94 2.06.94-2.06 2.06-.94-2.06-.94-.94-2.06-.94 2.06-2.06.94z\"/><path d=\"M17.41 7.96l-1.37-1.37c-.4-.4-.92-.59-1.43-.59-.52 0-1.04.2-1.43.59L10.3 9.45l-7.72 7.72c-.78.78-.78 2.05 0 2.83L4 21.41c.39.39.9.59 1.41.59.51 0 1.02-.2 1.41-.59l7.78-7.78 2.81-2.81c.8-.78.8-2.07 0-2.86zM5.41 20L4 18.59l7.72-7.72 1.47 1.35L5.41 20z\"/>\n",
              "  </svg>\n",
              "      </button>\n",
              "      \n",
              "  <style>\n",
              "    .colab-df-container {\n",
              "      display:flex;\n",
              "      flex-wrap:wrap;\n",
              "      gap: 12px;\n",
              "    }\n",
              "\n",
              "    .colab-df-convert {\n",
              "      background-color: #E8F0FE;\n",
              "      border: none;\n",
              "      border-radius: 50%;\n",
              "      cursor: pointer;\n",
              "      display: none;\n",
              "      fill: #1967D2;\n",
              "      height: 32px;\n",
              "      padding: 0 0 0 0;\n",
              "      width: 32px;\n",
              "    }\n",
              "\n",
              "    .colab-df-convert:hover {\n",
              "      background-color: #E2EBFA;\n",
              "      box-shadow: 0px 1px 2px rgba(60, 64, 67, 0.3), 0px 1px 3px 1px rgba(60, 64, 67, 0.15);\n",
              "      fill: #174EA6;\n",
              "    }\n",
              "\n",
              "    [theme=dark] .colab-df-convert {\n",
              "      background-color: #3B4455;\n",
              "      fill: #D2E3FC;\n",
              "    }\n",
              "\n",
              "    [theme=dark] .colab-df-convert:hover {\n",
              "      background-color: #434B5C;\n",
              "      box-shadow: 0px 1px 3px 1px rgba(0, 0, 0, 0.15);\n",
              "      filter: drop-shadow(0px 1px 2px rgba(0, 0, 0, 0.3));\n",
              "      fill: #FFFFFF;\n",
              "    }\n",
              "  </style>\n",
              "\n",
              "      <script>\n",
              "        const buttonEl =\n",
              "          document.querySelector('#df-d9761f49-ec07-4e08-893b-7a9c047ce50d button.colab-df-convert');\n",
              "        buttonEl.style.display =\n",
              "          google.colab.kernel.accessAllowed ? 'block' : 'none';\n",
              "\n",
              "        async function convertToInteractive(key) {\n",
              "          const element = document.querySelector('#df-d9761f49-ec07-4e08-893b-7a9c047ce50d');\n",
              "          const dataTable =\n",
              "            await google.colab.kernel.invokeFunction('convertToInteractive',\n",
              "                                                     [key], {});\n",
              "          if (!dataTable) return;\n",
              "\n",
              "          const docLinkHtml = 'Like what you see? Visit the ' +\n",
              "            '<a target=\"_blank\" href=https://colab.research.google.com/notebooks/data_table.ipynb>data table notebook</a>'\n",
              "            + ' to learn more about interactive tables.';\n",
              "          element.innerHTML = '';\n",
              "          dataTable['output_type'] = 'display_data';\n",
              "          await google.colab.output.renderOutput(dataTable, element);\n",
              "          const docLink = document.createElement('div');\n",
              "          docLink.innerHTML = docLinkHtml;\n",
              "          element.appendChild(docLink);\n",
              "        }\n",
              "      </script>\n",
              "    </div>\n",
              "  </div>\n",
              "  "
            ]
          },
          "metadata": {},
          "execution_count": 9
        }
      ]
    },
    {
      "cell_type": "markdown",
      "source": [
        "### Preprocessando os dados"
      ],
      "metadata": {
        "id": "IbuVmlvxVzeL"
      }
    },
    {
      "cell_type": "markdown",
      "source": [
        "Removendo 'TOTAL' da coluna 'MES' "
      ],
      "metadata": {
        "id": "bzFiUzJdV-88"
      }
    },
    {
      "cell_type": "code",
      "source": [
        "fuel.drop(fuel.index[fuel['MES'] == 'TOTAL'], inplace = True)"
      ],
      "metadata": {
        "id": "VfpQyKrkLma1"
      },
      "execution_count": null,
      "outputs": []
    },
    {
      "cell_type": "markdown",
      "source": [
        "Concatenando ano e mes para poder criar a data"
      ],
      "metadata": {
        "id": "r3LIhsIbWCih"
      }
    },
    {
      "cell_type": "code",
      "source": [
        "fuel['DATA'] = fuel['ANO'].astype(str) + '-' + fuel['MES']"
      ],
      "metadata": {
        "id": "uDgF43_-k4Ob"
      },
      "execution_count": null,
      "outputs": []
    },
    {
      "cell_type": "code",
      "source": [
        "fuel.dtypes"
      ],
      "metadata": {
        "colab": {
          "base_uri": "https://localhost:8080/"
        },
        "id": "sRV_IkkTzXHY",
        "outputId": "396818ac-c3ec-4137-d7ad-6d092e8f20ea"
      },
      "execution_count": null,
      "outputs": [
        {
          "output_type": "execute_result",
          "data": {
            "text/plain": [
              "COMBUSTIVEL     object\n",
              "ANO              int64\n",
              "REGIAO          object\n",
              "ESTADO          object\n",
              "MES             object\n",
              "melt_total     float64\n",
              "DATA            object\n",
              "dtype: object"
            ]
          },
          "metadata": {},
          "execution_count": 12
        }
      ]
    },
    {
      "cell_type": "code",
      "source": [
        "fuel['DATA'] = pd.to_datetime(fuel['DATA'])"
      ],
      "metadata": {
        "id": "zONw0rHwl8gP"
      },
      "execution_count": null,
      "outputs": []
    },
    {
      "cell_type": "code",
      "source": [
        "fuel.dtypes"
      ],
      "metadata": {
        "colab": {
          "base_uri": "https://localhost:8080/"
        },
        "id": "o1AZep9NzZzq",
        "outputId": "63f1d551-e296-46e9-80e9-0b4ad17d8744"
      },
      "execution_count": null,
      "outputs": [
        {
          "output_type": "execute_result",
          "data": {
            "text/plain": [
              "COMBUSTIVEL            object\n",
              "ANO                     int64\n",
              "REGIAO                 object\n",
              "ESTADO                 object\n",
              "MES                    object\n",
              "melt_total            float64\n",
              "DATA           datetime64[ns]\n",
              "dtype: object"
            ]
          },
          "metadata": {},
          "execution_count": 14
        }
      ]
    },
    {
      "cell_type": "markdown",
      "source": [
        "Removendo colunas que não serão mais utilizadas"
      ],
      "metadata": {
        "id": "qxZmga9aWOlS"
      }
    },
    {
      "cell_type": "code",
      "source": [
        "fuel = fuel.drop(labels=['REGIAO', 'ANO','MES'], axis=1)"
      ],
      "metadata": {
        "id": "z2dGG0uXmDBI"
      },
      "execution_count": null,
      "outputs": []
    },
    {
      "cell_type": "markdown",
      "source": [
        "Formatando as colunas 'COMBUSTIVEL' e 'ESTADO'"
      ],
      "metadata": {
        "id": "WvMqbS37WaRr"
      }
    },
    {
      "cell_type": "code",
      "source": [
        "fuel['COMBUSTIVEL'] = fuel['COMBUSTIVEL'].str.replace('(m3)',\"\",regex = False).str.strip().str.normalize('NFKD').str.encode('ascii', errors='ignore').str.decode('utf-8')"
      ],
      "metadata": {
        "id": "zCnXvV5NmC4j"
      },
      "execution_count": null,
      "outputs": []
    },
    {
      "cell_type": "code",
      "source": [
        "fuel['ESTADO'] = fuel['ESTADO'].str.normalize('NFKD').str.encode('ascii', errors='ignore').str.decode('utf-8')"
      ],
      "metadata": {
        "id": "oERFJqEFn7q3"
      },
      "execution_count": null,
      "outputs": []
    },
    {
      "cell_type": "markdown",
      "source": [
        "Renomeando as colunas para o padrão"
      ],
      "metadata": {
        "id": "PcFUvYakWR1R"
      }
    },
    {
      "cell_type": "code",
      "source": [
        "fuel.rename(columns = {'COMBUSTIVEL':'product', 'ESTADO':'uf', 'melt_total':'volume', 'DATA': 'year_month'}, inplace = True)"
      ],
      "metadata": {
        "id": "pXXHovMMu24-"
      },
      "execution_count": null,
      "outputs": []
    },
    {
      "cell_type": "markdown",
      "source": [
        "Criando a coluna 'unit'"
      ],
      "metadata": {
        "id": "svk5iLxoWXfX"
      }
    },
    {
      "cell_type": "code",
      "source": [
        "fuel['unit'] = 'm3'"
      ],
      "metadata": {
        "id": "na4t0oI-qy0x"
      },
      "execution_count": null,
      "outputs": []
    },
    {
      "cell_type": "markdown",
      "source": [
        "### Checando os valores nulos das colunas"
      ],
      "metadata": {
        "id": "31s-eRc9VMFo"
      }
    },
    {
      "cell_type": "code",
      "source": [
        "fuel.isnull().values.any()"
      ],
      "metadata": {
        "colab": {
          "base_uri": "https://localhost:8080/"
        },
        "id": "iGUULk3CAU8k",
        "outputId": "a177e530-a25f-48d5-ece4-e81db89f58f3"
      },
      "execution_count": null,
      "outputs": [
        {
          "output_type": "execute_result",
          "data": {
            "text/plain": [
              "True"
            ]
          },
          "metadata": {},
          "execution_count": 20
        }
      ]
    },
    {
      "cell_type": "code",
      "source": [
        "fuel.isnull().sum()"
      ],
      "metadata": {
        "colab": {
          "base_uri": "https://localhost:8080/"
        },
        "id": "PS4AVJf4AdAX",
        "outputId": "80e1b859-7282-4765-c23e-8c9df25d965f"
      },
      "execution_count": null,
      "outputs": [
        {
          "output_type": "execute_result",
          "data": {
            "text/plain": [
              "product         0\n",
              "uf              0\n",
              "volume        598\n",
              "year_month      0\n",
              "unit            0\n",
              "dtype: int64"
            ]
          },
          "metadata": {},
          "execution_count": 21
        }
      ]
    },
    {
      "cell_type": "markdown",
      "source": [
        "Fuel: volume 598\n",
        "\n",
        "Diesel: volume 374"
      ],
      "metadata": {
        "id": "J4fhOm7HUkIk"
      }
    },
    {
      "cell_type": "code",
      "source": [
        "fuel['volume'] = fuel['volume'].fillna(0)"
      ],
      "metadata": {
        "id": "Of9Koz-sAh0f"
      },
      "execution_count": null,
      "outputs": []
    },
    {
      "cell_type": "code",
      "source": [
        "fuel.isnull().sum()"
      ],
      "metadata": {
        "colab": {
          "base_uri": "https://localhost:8080/"
        },
        "id": "1wfR7InNBDq5",
        "outputId": "132bd38a-17e0-4abf-e01d-0ff64e4fa15f"
      },
      "execution_count": null,
      "outputs": [
        {
          "output_type": "execute_result",
          "data": {
            "text/plain": [
              "product       0\n",
              "uf            0\n",
              "volume        0\n",
              "year_month    0\n",
              "unit          0\n",
              "dtype: int64"
            ]
          },
          "metadata": {},
          "execution_count": 23
        }
      ]
    },
    {
      "cell_type": "markdown",
      "source": [
        "### Reordenando colunas"
      ],
      "metadata": {
        "id": "uAWU1pygBKm2"
      }
    },
    {
      "cell_type": "code",
      "source": [
        "fuel = fuel[['year_month','uf','product','unit','volume']]"
      ],
      "metadata": {
        "id": "8mDSQI6jgqMr"
      },
      "execution_count": null,
      "outputs": []
    },
    {
      "cell_type": "code",
      "source": [
        "fuel"
      ],
      "metadata": {
        "colab": {
          "base_uri": "https://localhost:8080/",
          "height": 679
        },
        "id": "CbP4J1A11RH9",
        "outputId": "b81aac8c-0399-4178-e47f-f39b9d5259dc"
      },
      "execution_count": null,
      "outputs": [
        {
          "output_type": "execute_result",
          "data": {
            "text/plain": [
              "      year_month                  uf      product unit         volume\n",
              "0     2000-01-01            RONDONIA  GASOLINA C    m3  136073.253000\n",
              "1     2000-01-01                ACRE  GASOLINA C    m3    3358.346000\n",
              "2     2000-01-01            AMAZONAS  GASOLINA C    m3   20766.918000\n",
              "3     2000-01-01             RORAIMA  GASOLINA C    m3    3716.032000\n",
              "4     2000-01-01                PARA  GASOLINA C    m3   29755.907000\n",
              "...          ...                 ...          ...  ...            ...\n",
              "54427 2020-12-01   RIO GRANDE DO SUL         GLP    m3   64045.161232\n",
              "54428 2020-12-01  MATO GROSSO DO SUL         GLP    m3   16281.139493\n",
              "54429 2020-12-01         MATO GROSSO         GLP    m3   18321.987319\n",
              "54430 2020-12-01               GOIAS         GLP    m3   46850.585145\n",
              "54431 2020-12-01    DISTRITO FEDERAL         GLP    m3  133282.702899\n",
              "\n",
              "[54432 rows x 5 columns]"
            ],
            "text/html": [
              "\n",
              "  <div id=\"df-ef2f395d-17ab-440f-be49-f51c94984a7c\">\n",
              "    <div class=\"colab-df-container\">\n",
              "      <div>\n",
              "<style scoped>\n",
              "    .dataframe tbody tr th:only-of-type {\n",
              "        vertical-align: middle;\n",
              "    }\n",
              "\n",
              "    .dataframe tbody tr th {\n",
              "        vertical-align: top;\n",
              "    }\n",
              "\n",
              "    .dataframe thead th {\n",
              "        text-align: right;\n",
              "    }\n",
              "</style>\n",
              "<table border=\"1\" class=\"dataframe\">\n",
              "  <thead>\n",
              "    <tr style=\"text-align: right;\">\n",
              "      <th></th>\n",
              "      <th>year_month</th>\n",
              "      <th>uf</th>\n",
              "      <th>product</th>\n",
              "      <th>unit</th>\n",
              "      <th>volume</th>\n",
              "    </tr>\n",
              "  </thead>\n",
              "  <tbody>\n",
              "    <tr>\n",
              "      <th>0</th>\n",
              "      <td>2000-01-01</td>\n",
              "      <td>RONDONIA</td>\n",
              "      <td>GASOLINA C</td>\n",
              "      <td>m3</td>\n",
              "      <td>136073.253000</td>\n",
              "    </tr>\n",
              "    <tr>\n",
              "      <th>1</th>\n",
              "      <td>2000-01-01</td>\n",
              "      <td>ACRE</td>\n",
              "      <td>GASOLINA C</td>\n",
              "      <td>m3</td>\n",
              "      <td>3358.346000</td>\n",
              "    </tr>\n",
              "    <tr>\n",
              "      <th>2</th>\n",
              "      <td>2000-01-01</td>\n",
              "      <td>AMAZONAS</td>\n",
              "      <td>GASOLINA C</td>\n",
              "      <td>m3</td>\n",
              "      <td>20766.918000</td>\n",
              "    </tr>\n",
              "    <tr>\n",
              "      <th>3</th>\n",
              "      <td>2000-01-01</td>\n",
              "      <td>RORAIMA</td>\n",
              "      <td>GASOLINA C</td>\n",
              "      <td>m3</td>\n",
              "      <td>3716.032000</td>\n",
              "    </tr>\n",
              "    <tr>\n",
              "      <th>4</th>\n",
              "      <td>2000-01-01</td>\n",
              "      <td>PARA</td>\n",
              "      <td>GASOLINA C</td>\n",
              "      <td>m3</td>\n",
              "      <td>29755.907000</td>\n",
              "    </tr>\n",
              "    <tr>\n",
              "      <th>...</th>\n",
              "      <td>...</td>\n",
              "      <td>...</td>\n",
              "      <td>...</td>\n",
              "      <td>...</td>\n",
              "      <td>...</td>\n",
              "    </tr>\n",
              "    <tr>\n",
              "      <th>54427</th>\n",
              "      <td>2020-12-01</td>\n",
              "      <td>RIO GRANDE DO SUL</td>\n",
              "      <td>GLP</td>\n",
              "      <td>m3</td>\n",
              "      <td>64045.161232</td>\n",
              "    </tr>\n",
              "    <tr>\n",
              "      <th>54428</th>\n",
              "      <td>2020-12-01</td>\n",
              "      <td>MATO GROSSO DO SUL</td>\n",
              "      <td>GLP</td>\n",
              "      <td>m3</td>\n",
              "      <td>16281.139493</td>\n",
              "    </tr>\n",
              "    <tr>\n",
              "      <th>54429</th>\n",
              "      <td>2020-12-01</td>\n",
              "      <td>MATO GROSSO</td>\n",
              "      <td>GLP</td>\n",
              "      <td>m3</td>\n",
              "      <td>18321.987319</td>\n",
              "    </tr>\n",
              "    <tr>\n",
              "      <th>54430</th>\n",
              "      <td>2020-12-01</td>\n",
              "      <td>GOIAS</td>\n",
              "      <td>GLP</td>\n",
              "      <td>m3</td>\n",
              "      <td>46850.585145</td>\n",
              "    </tr>\n",
              "    <tr>\n",
              "      <th>54431</th>\n",
              "      <td>2020-12-01</td>\n",
              "      <td>DISTRITO FEDERAL</td>\n",
              "      <td>GLP</td>\n",
              "      <td>m3</td>\n",
              "      <td>133282.702899</td>\n",
              "    </tr>\n",
              "  </tbody>\n",
              "</table>\n",
              "<p>54432 rows × 5 columns</p>\n",
              "</div>\n",
              "      <button class=\"colab-df-convert\" onclick=\"convertToInteractive('df-ef2f395d-17ab-440f-be49-f51c94984a7c')\"\n",
              "              title=\"Convert this dataframe to an interactive table.\"\n",
              "              style=\"display:none;\">\n",
              "        \n",
              "  <svg xmlns=\"http://www.w3.org/2000/svg\" height=\"24px\"viewBox=\"0 0 24 24\"\n",
              "       width=\"24px\">\n",
              "    <path d=\"M0 0h24v24H0V0z\" fill=\"none\"/>\n",
              "    <path d=\"M18.56 5.44l.94 2.06.94-2.06 2.06-.94-2.06-.94-.94-2.06-.94 2.06-2.06.94zm-11 1L8.5 8.5l.94-2.06 2.06-.94-2.06-.94L8.5 2.5l-.94 2.06-2.06.94zm10 10l.94 2.06.94-2.06 2.06-.94-2.06-.94-.94-2.06-.94 2.06-2.06.94z\"/><path d=\"M17.41 7.96l-1.37-1.37c-.4-.4-.92-.59-1.43-.59-.52 0-1.04.2-1.43.59L10.3 9.45l-7.72 7.72c-.78.78-.78 2.05 0 2.83L4 21.41c.39.39.9.59 1.41.59.51 0 1.02-.2 1.41-.59l7.78-7.78 2.81-2.81c.8-.78.8-2.07 0-2.86zM5.41 20L4 18.59l7.72-7.72 1.47 1.35L5.41 20z\"/>\n",
              "  </svg>\n",
              "      </button>\n",
              "      \n",
              "  <style>\n",
              "    .colab-df-container {\n",
              "      display:flex;\n",
              "      flex-wrap:wrap;\n",
              "      gap: 12px;\n",
              "    }\n",
              "\n",
              "    .colab-df-convert {\n",
              "      background-color: #E8F0FE;\n",
              "      border: none;\n",
              "      border-radius: 50%;\n",
              "      cursor: pointer;\n",
              "      display: none;\n",
              "      fill: #1967D2;\n",
              "      height: 32px;\n",
              "      padding: 0 0 0 0;\n",
              "      width: 32px;\n",
              "    }\n",
              "\n",
              "    .colab-df-convert:hover {\n",
              "      background-color: #E2EBFA;\n",
              "      box-shadow: 0px 1px 2px rgba(60, 64, 67, 0.3), 0px 1px 3px 1px rgba(60, 64, 67, 0.15);\n",
              "      fill: #174EA6;\n",
              "    }\n",
              "\n",
              "    [theme=dark] .colab-df-convert {\n",
              "      background-color: #3B4455;\n",
              "      fill: #D2E3FC;\n",
              "    }\n",
              "\n",
              "    [theme=dark] .colab-df-convert:hover {\n",
              "      background-color: #434B5C;\n",
              "      box-shadow: 0px 1px 3px 1px rgba(0, 0, 0, 0.15);\n",
              "      filter: drop-shadow(0px 1px 2px rgba(0, 0, 0, 0.3));\n",
              "      fill: #FFFFFF;\n",
              "    }\n",
              "  </style>\n",
              "\n",
              "      <script>\n",
              "        const buttonEl =\n",
              "          document.querySelector('#df-ef2f395d-17ab-440f-be49-f51c94984a7c button.colab-df-convert');\n",
              "        buttonEl.style.display =\n",
              "          google.colab.kernel.accessAllowed ? 'block' : 'none';\n",
              "\n",
              "        async function convertToInteractive(key) {\n",
              "          const element = document.querySelector('#df-ef2f395d-17ab-440f-be49-f51c94984a7c');\n",
              "          const dataTable =\n",
              "            await google.colab.kernel.invokeFunction('convertToInteractive',\n",
              "                                                     [key], {});\n",
              "          if (!dataTable) return;\n",
              "\n",
              "          const docLinkHtml = 'Like what you see? Visit the ' +\n",
              "            '<a target=\"_blank\" href=https://colab.research.google.com/notebooks/data_table.ipynb>data table notebook</a>'\n",
              "            + ' to learn more about interactive tables.';\n",
              "          element.innerHTML = '';\n",
              "          dataTable['output_type'] = 'display_data';\n",
              "          await google.colab.output.renderOutput(dataTable, element);\n",
              "          const docLink = document.createElement('div');\n",
              "          docLink.innerHTML = docLinkHtml;\n",
              "          element.appendChild(docLink);\n",
              "        }\n",
              "      </script>\n",
              "    </div>\n",
              "  </div>\n",
              "  "
            ]
          },
          "metadata": {},
          "execution_count": 25
        }
      ]
    },
    {
      "cell_type": "markdown",
      "source": [
        "### Verificando o tamanho máximo de caracteres das colunas"
      ],
      "metadata": {
        "id": "ngBehdoPVB4_"
      }
    },
    {
      "cell_type": "code",
      "source": [
        "import numpy as np\n",
        "measurer = np.vectorize(len)\n",
        "size = dict(zip(fuel, measurer(fuel.values.astype(str)).max(axis=0)))\n",
        "size"
      ],
      "metadata": {
        "colab": {
          "base_uri": "https://localhost:8080/"
        },
        "id": "ytGWssz-TEJm",
        "outputId": "00968af5-f766-4aa5-cc71-cae6396cdc36"
      },
      "execution_count": null,
      "outputs": [
        {
          "output_type": "execute_result",
          "data": {
            "text/plain": [
              "{'product': 21, 'uf': 19, 'unit': 2, 'volume': 20, 'year_month': 19}"
            ]
          },
          "metadata": {},
          "execution_count": 26
        }
      ]
    },
    {
      "cell_type": "markdown",
      "source": [
        "Fuel = {'product': 21, 'uf': 19, 'unit': 2, 'volume': 20, 'year_month': 19}\n",
        "\n",
        "Diesel = {'product': 22, 'uf': 19, 'unit': 2, 'volume': 18, 'year_month': 19}"
      ],
      "metadata": {
        "id": "rRNYYckbUgK1"
      }
    }
  ]
}